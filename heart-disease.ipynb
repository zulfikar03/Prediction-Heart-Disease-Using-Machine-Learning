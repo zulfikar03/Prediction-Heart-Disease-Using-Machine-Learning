{
 "cells": [
  {
   "cell_type": "code",
   "execution_count": 1,
   "id": "b4020b94",
   "metadata": {
    "_cell_guid": "b1076dfc-b9ad-4769-8c92-a6c4dae69d19",
    "_uuid": "8f2839f25d086af736a60e9eeb907d3b93b6e0e5",
    "execution": {
     "iopub.execute_input": "2023-08-09T03:36:32.317639Z",
     "iopub.status.busy": "2023-08-09T03:36:32.316931Z",
     "iopub.status.idle": "2023-08-09T03:36:33.361238Z",
     "shell.execute_reply": "2023-08-09T03:36:33.359840Z"
    },
    "papermill": {
     "duration": 1.064541,
     "end_time": "2023-08-09T03:36:33.364224",
     "exception": false,
     "start_time": "2023-08-09T03:36:32.299683",
     "status": "completed"
    },
    "tags": []
   },
   "outputs": [],
   "source": [
    "import pandas as pd  # For loading data into a tabular format\n",
    "import numpy as np   # For manipulating data\n",
    "import matplotlib.pyplot as plt  # For graph plotting\n",
    "import seaborn as sns  # For graph plotting"
   ]
  },
  {
   "cell_type": "markdown",
   "id": "5b71b327",
   "metadata": {
    "papermill": {
     "duration": 0.014977,
     "end_time": "2023-08-09T03:36:33.393338",
     "exception": false,
     "start_time": "2023-08-09T03:36:33.378361",
     "status": "completed"
    },
    "tags": []
   },
   "source": [
    "# Load the Data"
   ]
  },
  {
   "cell_type": "code",
   "execution_count": 2,
   "id": "01c0bfa0",
   "metadata": {
    "execution": {
     "iopub.execute_input": "2023-08-09T03:36:33.423182Z",
     "iopub.status.busy": "2023-08-09T03:36:33.422836Z",
     "iopub.status.idle": "2023-08-09T03:36:33.476113Z",
     "shell.execute_reply": "2023-08-09T03:36:33.474642Z"
    },
    "papermill": {
     "duration": 0.070907,
     "end_time": "2023-08-09T03:36:33.478310",
     "exception": false,
     "start_time": "2023-08-09T03:36:33.407403",
     "status": "completed"
    },
    "tags": []
   },
   "outputs": [
    {
     "data": {
      "text/html": [
       "<div>\n",
       "<style scoped>\n",
       "    .dataframe tbody tr th:only-of-type {\n",
       "        vertical-align: middle;\n",
       "    }\n",
       "\n",
       "    .dataframe tbody tr th {\n",
       "        vertical-align: top;\n",
       "    }\n",
       "\n",
       "    .dataframe thead th {\n",
       "        text-align: right;\n",
       "    }\n",
       "</style>\n",
       "<table border=\"1\" class=\"dataframe\">\n",
       "  <thead>\n",
       "    <tr style=\"text-align: right;\">\n",
       "      <th></th>\n",
       "      <th>age</th>\n",
       "      <th>sex</th>\n",
       "      <th>cp</th>\n",
       "      <th>trestbps</th>\n",
       "      <th>chol</th>\n",
       "      <th>fbs</th>\n",
       "      <th>restecg</th>\n",
       "      <th>thalach</th>\n",
       "      <th>exang</th>\n",
       "      <th>oldpeak</th>\n",
       "      <th>slope</th>\n",
       "      <th>ca</th>\n",
       "      <th>thal</th>\n",
       "      <th>target</th>\n",
       "    </tr>\n",
       "  </thead>\n",
       "  <tbody>\n",
       "    <tr>\n",
       "      <th>0</th>\n",
       "      <td>52</td>\n",
       "      <td>1</td>\n",
       "      <td>0</td>\n",
       "      <td>125</td>\n",
       "      <td>212</td>\n",
       "      <td>0</td>\n",
       "      <td>1</td>\n",
       "      <td>168</td>\n",
       "      <td>0</td>\n",
       "      <td>1.0</td>\n",
       "      <td>2</td>\n",
       "      <td>2</td>\n",
       "      <td>3</td>\n",
       "      <td>0</td>\n",
       "    </tr>\n",
       "    <tr>\n",
       "      <th>1</th>\n",
       "      <td>53</td>\n",
       "      <td>1</td>\n",
       "      <td>0</td>\n",
       "      <td>140</td>\n",
       "      <td>203</td>\n",
       "      <td>1</td>\n",
       "      <td>0</td>\n",
       "      <td>155</td>\n",
       "      <td>1</td>\n",
       "      <td>3.1</td>\n",
       "      <td>0</td>\n",
       "      <td>0</td>\n",
       "      <td>3</td>\n",
       "      <td>0</td>\n",
       "    </tr>\n",
       "    <tr>\n",
       "      <th>2</th>\n",
       "      <td>70</td>\n",
       "      <td>1</td>\n",
       "      <td>0</td>\n",
       "      <td>145</td>\n",
       "      <td>174</td>\n",
       "      <td>0</td>\n",
       "      <td>1</td>\n",
       "      <td>125</td>\n",
       "      <td>1</td>\n",
       "      <td>2.6</td>\n",
       "      <td>0</td>\n",
       "      <td>0</td>\n",
       "      <td>3</td>\n",
       "      <td>0</td>\n",
       "    </tr>\n",
       "    <tr>\n",
       "      <th>3</th>\n",
       "      <td>61</td>\n",
       "      <td>1</td>\n",
       "      <td>0</td>\n",
       "      <td>148</td>\n",
       "      <td>203</td>\n",
       "      <td>0</td>\n",
       "      <td>1</td>\n",
       "      <td>161</td>\n",
       "      <td>0</td>\n",
       "      <td>0.0</td>\n",
       "      <td>2</td>\n",
       "      <td>1</td>\n",
       "      <td>3</td>\n",
       "      <td>0</td>\n",
       "    </tr>\n",
       "    <tr>\n",
       "      <th>4</th>\n",
       "      <td>62</td>\n",
       "      <td>0</td>\n",
       "      <td>0</td>\n",
       "      <td>138</td>\n",
       "      <td>294</td>\n",
       "      <td>1</td>\n",
       "      <td>1</td>\n",
       "      <td>106</td>\n",
       "      <td>0</td>\n",
       "      <td>1.9</td>\n",
       "      <td>1</td>\n",
       "      <td>3</td>\n",
       "      <td>2</td>\n",
       "      <td>0</td>\n",
       "    </tr>\n",
       "    <tr>\n",
       "      <th>...</th>\n",
       "      <td>...</td>\n",
       "      <td>...</td>\n",
       "      <td>...</td>\n",
       "      <td>...</td>\n",
       "      <td>...</td>\n",
       "      <td>...</td>\n",
       "      <td>...</td>\n",
       "      <td>...</td>\n",
       "      <td>...</td>\n",
       "      <td>...</td>\n",
       "      <td>...</td>\n",
       "      <td>...</td>\n",
       "      <td>...</td>\n",
       "      <td>...</td>\n",
       "    </tr>\n",
       "    <tr>\n",
       "      <th>1020</th>\n",
       "      <td>59</td>\n",
       "      <td>1</td>\n",
       "      <td>1</td>\n",
       "      <td>140</td>\n",
       "      <td>221</td>\n",
       "      <td>0</td>\n",
       "      <td>1</td>\n",
       "      <td>164</td>\n",
       "      <td>1</td>\n",
       "      <td>0.0</td>\n",
       "      <td>2</td>\n",
       "      <td>0</td>\n",
       "      <td>2</td>\n",
       "      <td>1</td>\n",
       "    </tr>\n",
       "    <tr>\n",
       "      <th>1021</th>\n",
       "      <td>60</td>\n",
       "      <td>1</td>\n",
       "      <td>0</td>\n",
       "      <td>125</td>\n",
       "      <td>258</td>\n",
       "      <td>0</td>\n",
       "      <td>0</td>\n",
       "      <td>141</td>\n",
       "      <td>1</td>\n",
       "      <td>2.8</td>\n",
       "      <td>1</td>\n",
       "      <td>1</td>\n",
       "      <td>3</td>\n",
       "      <td>0</td>\n",
       "    </tr>\n",
       "    <tr>\n",
       "      <th>1022</th>\n",
       "      <td>47</td>\n",
       "      <td>1</td>\n",
       "      <td>0</td>\n",
       "      <td>110</td>\n",
       "      <td>275</td>\n",
       "      <td>0</td>\n",
       "      <td>0</td>\n",
       "      <td>118</td>\n",
       "      <td>1</td>\n",
       "      <td>1.0</td>\n",
       "      <td>1</td>\n",
       "      <td>1</td>\n",
       "      <td>2</td>\n",
       "      <td>0</td>\n",
       "    </tr>\n",
       "    <tr>\n",
       "      <th>1023</th>\n",
       "      <td>50</td>\n",
       "      <td>0</td>\n",
       "      <td>0</td>\n",
       "      <td>110</td>\n",
       "      <td>254</td>\n",
       "      <td>0</td>\n",
       "      <td>0</td>\n",
       "      <td>159</td>\n",
       "      <td>0</td>\n",
       "      <td>0.0</td>\n",
       "      <td>2</td>\n",
       "      <td>0</td>\n",
       "      <td>2</td>\n",
       "      <td>1</td>\n",
       "    </tr>\n",
       "    <tr>\n",
       "      <th>1024</th>\n",
       "      <td>54</td>\n",
       "      <td>1</td>\n",
       "      <td>0</td>\n",
       "      <td>120</td>\n",
       "      <td>188</td>\n",
       "      <td>0</td>\n",
       "      <td>1</td>\n",
       "      <td>113</td>\n",
       "      <td>0</td>\n",
       "      <td>1.4</td>\n",
       "      <td>1</td>\n",
       "      <td>1</td>\n",
       "      <td>3</td>\n",
       "      <td>0</td>\n",
       "    </tr>\n",
       "  </tbody>\n",
       "</table>\n",
       "<p>1025 rows × 14 columns</p>\n",
       "</div>"
      ],
      "text/plain": [
       "      age  sex  cp  trestbps  chol  fbs  restecg  thalach  exang  oldpeak  \\\n",
       "0      52    1   0       125   212    0        1      168      0      1.0   \n",
       "1      53    1   0       140   203    1        0      155      1      3.1   \n",
       "2      70    1   0       145   174    0        1      125      1      2.6   \n",
       "3      61    1   0       148   203    0        1      161      0      0.0   \n",
       "4      62    0   0       138   294    1        1      106      0      1.9   \n",
       "...   ...  ...  ..       ...   ...  ...      ...      ...    ...      ...   \n",
       "1020   59    1   1       140   221    0        1      164      1      0.0   \n",
       "1021   60    1   0       125   258    0        0      141      1      2.8   \n",
       "1022   47    1   0       110   275    0        0      118      1      1.0   \n",
       "1023   50    0   0       110   254    0        0      159      0      0.0   \n",
       "1024   54    1   0       120   188    0        1      113      0      1.4   \n",
       "\n",
       "      slope  ca  thal  target  \n",
       "0         2   2     3       0  \n",
       "1         0   0     3       0  \n",
       "2         0   0     3       0  \n",
       "3         2   1     3       0  \n",
       "4         1   3     2       0  \n",
       "...     ...  ..   ...     ...  \n",
       "1020      2   0     2       1  \n",
       "1021      1   1     3       0  \n",
       "1022      1   1     2       0  \n",
       "1023      2   0     2       1  \n",
       "1024      1   1     3       0  \n",
       "\n",
       "[1025 rows x 14 columns]"
      ]
     },
     "execution_count": 2,
     "metadata": {},
     "output_type": "execute_result"
    }
   ],
   "source": [
    "heart_disease = pd.read_csv('../input/heart-disease-dataset/heart.csv')\n",
    "heart_disease"
   ]
  },
  {
   "cell_type": "code",
   "execution_count": 3,
   "id": "11374b11",
   "metadata": {
    "execution": {
     "iopub.execute_input": "2023-08-09T03:36:33.508377Z",
     "iopub.status.busy": "2023-08-09T03:36:33.507999Z",
     "iopub.status.idle": "2023-08-09T03:36:33.516014Z",
     "shell.execute_reply": "2023-08-09T03:36:33.514681Z"
    },
    "papermill": {
     "duration": 0.02598,
     "end_time": "2023-08-09T03:36:33.518568",
     "exception": false,
     "start_time": "2023-08-09T03:36:33.492588",
     "status": "completed"
    },
    "tags": []
   },
   "outputs": [
    {
     "data": {
      "text/plain": [
       "Index(['age', 'sex', 'cp', 'trestbps', 'chol', 'fbs', 'restecg', 'thalach',\n",
       "       'exang', 'oldpeak', 'slope', 'ca', 'thal', 'target'],\n",
       "      dtype='object')"
      ]
     },
     "execution_count": 3,
     "metadata": {},
     "output_type": "execute_result"
    }
   ],
   "source": [
    "heart_disease.columns"
   ]
  },
  {
   "cell_type": "markdown",
   "id": "2d5a4fe8",
   "metadata": {
    "papermill": {
     "duration": 0.014305,
     "end_time": "2023-08-09T03:36:33.547490",
     "exception": false,
     "start_time": "2023-08-09T03:36:33.533185",
     "status": "completed"
    },
    "tags": []
   },
   "source": [
    "### Ganti nama kolumnya agar lebih mudah dipahami"
   ]
  },
  {
   "cell_type": "code",
   "execution_count": 4,
   "id": "911a38bf",
   "metadata": {
    "execution": {
     "iopub.execute_input": "2023-08-09T03:36:33.578850Z",
     "iopub.status.busy": "2023-08-09T03:36:33.578472Z",
     "iopub.status.idle": "2023-08-09T03:36:33.587656Z",
     "shell.execute_reply": "2023-08-09T03:36:33.586574Z"
    },
    "papermill": {
     "duration": 0.027428,
     "end_time": "2023-08-09T03:36:33.589695",
     "exception": false,
     "start_time": "2023-08-09T03:36:33.562267",
     "status": "completed"
    },
    "tags": []
   },
   "outputs": [],
   "source": [
    "heart_disease = heart_disease.rename(columns={'cp':'chest_pain','trestbps':'blood_pressure','chol':'cholestrol','ca':'vessels','fbs':'blood_sugar'})"
   ]
  },
  {
   "cell_type": "code",
   "execution_count": 5,
   "id": "916df251",
   "metadata": {
    "execution": {
     "iopub.execute_input": "2023-08-09T03:36:33.621130Z",
     "iopub.status.busy": "2023-08-09T03:36:33.620717Z",
     "iopub.status.idle": "2023-08-09T03:36:33.639184Z",
     "shell.execute_reply": "2023-08-09T03:36:33.637832Z"
    },
    "papermill": {
     "duration": 0.037581,
     "end_time": "2023-08-09T03:36:33.641821",
     "exception": false,
     "start_time": "2023-08-09T03:36:33.604240",
     "status": "completed"
    },
    "tags": []
   },
   "outputs": [
    {
     "data": {
      "text/html": [
       "<div>\n",
       "<style scoped>\n",
       "    .dataframe tbody tr th:only-of-type {\n",
       "        vertical-align: middle;\n",
       "    }\n",
       "\n",
       "    .dataframe tbody tr th {\n",
       "        vertical-align: top;\n",
       "    }\n",
       "\n",
       "    .dataframe thead th {\n",
       "        text-align: right;\n",
       "    }\n",
       "</style>\n",
       "<table border=\"1\" class=\"dataframe\">\n",
       "  <thead>\n",
       "    <tr style=\"text-align: right;\">\n",
       "      <th></th>\n",
       "      <th>age</th>\n",
       "      <th>sex</th>\n",
       "      <th>chest_pain</th>\n",
       "      <th>blood_pressure</th>\n",
       "      <th>cholestrol</th>\n",
       "      <th>blood_sugar</th>\n",
       "      <th>restecg</th>\n",
       "      <th>thalach</th>\n",
       "      <th>exang</th>\n",
       "      <th>oldpeak</th>\n",
       "      <th>slope</th>\n",
       "      <th>vessels</th>\n",
       "      <th>thal</th>\n",
       "      <th>target</th>\n",
       "    </tr>\n",
       "  </thead>\n",
       "  <tbody>\n",
       "    <tr>\n",
       "      <th>0</th>\n",
       "      <td>52</td>\n",
       "      <td>1</td>\n",
       "      <td>0</td>\n",
       "      <td>125</td>\n",
       "      <td>212</td>\n",
       "      <td>0</td>\n",
       "      <td>1</td>\n",
       "      <td>168</td>\n",
       "      <td>0</td>\n",
       "      <td>1.0</td>\n",
       "      <td>2</td>\n",
       "      <td>2</td>\n",
       "      <td>3</td>\n",
       "      <td>0</td>\n",
       "    </tr>\n",
       "    <tr>\n",
       "      <th>1</th>\n",
       "      <td>53</td>\n",
       "      <td>1</td>\n",
       "      <td>0</td>\n",
       "      <td>140</td>\n",
       "      <td>203</td>\n",
       "      <td>1</td>\n",
       "      <td>0</td>\n",
       "      <td>155</td>\n",
       "      <td>1</td>\n",
       "      <td>3.1</td>\n",
       "      <td>0</td>\n",
       "      <td>0</td>\n",
       "      <td>3</td>\n",
       "      <td>0</td>\n",
       "    </tr>\n",
       "    <tr>\n",
       "      <th>2</th>\n",
       "      <td>70</td>\n",
       "      <td>1</td>\n",
       "      <td>0</td>\n",
       "      <td>145</td>\n",
       "      <td>174</td>\n",
       "      <td>0</td>\n",
       "      <td>1</td>\n",
       "      <td>125</td>\n",
       "      <td>1</td>\n",
       "      <td>2.6</td>\n",
       "      <td>0</td>\n",
       "      <td>0</td>\n",
       "      <td>3</td>\n",
       "      <td>0</td>\n",
       "    </tr>\n",
       "    <tr>\n",
       "      <th>3</th>\n",
       "      <td>61</td>\n",
       "      <td>1</td>\n",
       "      <td>0</td>\n",
       "      <td>148</td>\n",
       "      <td>203</td>\n",
       "      <td>0</td>\n",
       "      <td>1</td>\n",
       "      <td>161</td>\n",
       "      <td>0</td>\n",
       "      <td>0.0</td>\n",
       "      <td>2</td>\n",
       "      <td>1</td>\n",
       "      <td>3</td>\n",
       "      <td>0</td>\n",
       "    </tr>\n",
       "    <tr>\n",
       "      <th>4</th>\n",
       "      <td>62</td>\n",
       "      <td>0</td>\n",
       "      <td>0</td>\n",
       "      <td>138</td>\n",
       "      <td>294</td>\n",
       "      <td>1</td>\n",
       "      <td>1</td>\n",
       "      <td>106</td>\n",
       "      <td>0</td>\n",
       "      <td>1.9</td>\n",
       "      <td>1</td>\n",
       "      <td>3</td>\n",
       "      <td>2</td>\n",
       "      <td>0</td>\n",
       "    </tr>\n",
       "    <tr>\n",
       "      <th>...</th>\n",
       "      <td>...</td>\n",
       "      <td>...</td>\n",
       "      <td>...</td>\n",
       "      <td>...</td>\n",
       "      <td>...</td>\n",
       "      <td>...</td>\n",
       "      <td>...</td>\n",
       "      <td>...</td>\n",
       "      <td>...</td>\n",
       "      <td>...</td>\n",
       "      <td>...</td>\n",
       "      <td>...</td>\n",
       "      <td>...</td>\n",
       "      <td>...</td>\n",
       "    </tr>\n",
       "    <tr>\n",
       "      <th>1020</th>\n",
       "      <td>59</td>\n",
       "      <td>1</td>\n",
       "      <td>1</td>\n",
       "      <td>140</td>\n",
       "      <td>221</td>\n",
       "      <td>0</td>\n",
       "      <td>1</td>\n",
       "      <td>164</td>\n",
       "      <td>1</td>\n",
       "      <td>0.0</td>\n",
       "      <td>2</td>\n",
       "      <td>0</td>\n",
       "      <td>2</td>\n",
       "      <td>1</td>\n",
       "    </tr>\n",
       "    <tr>\n",
       "      <th>1021</th>\n",
       "      <td>60</td>\n",
       "      <td>1</td>\n",
       "      <td>0</td>\n",
       "      <td>125</td>\n",
       "      <td>258</td>\n",
       "      <td>0</td>\n",
       "      <td>0</td>\n",
       "      <td>141</td>\n",
       "      <td>1</td>\n",
       "      <td>2.8</td>\n",
       "      <td>1</td>\n",
       "      <td>1</td>\n",
       "      <td>3</td>\n",
       "      <td>0</td>\n",
       "    </tr>\n",
       "    <tr>\n",
       "      <th>1022</th>\n",
       "      <td>47</td>\n",
       "      <td>1</td>\n",
       "      <td>0</td>\n",
       "      <td>110</td>\n",
       "      <td>275</td>\n",
       "      <td>0</td>\n",
       "      <td>0</td>\n",
       "      <td>118</td>\n",
       "      <td>1</td>\n",
       "      <td>1.0</td>\n",
       "      <td>1</td>\n",
       "      <td>1</td>\n",
       "      <td>2</td>\n",
       "      <td>0</td>\n",
       "    </tr>\n",
       "    <tr>\n",
       "      <th>1023</th>\n",
       "      <td>50</td>\n",
       "      <td>0</td>\n",
       "      <td>0</td>\n",
       "      <td>110</td>\n",
       "      <td>254</td>\n",
       "      <td>0</td>\n",
       "      <td>0</td>\n",
       "      <td>159</td>\n",
       "      <td>0</td>\n",
       "      <td>0.0</td>\n",
       "      <td>2</td>\n",
       "      <td>0</td>\n",
       "      <td>2</td>\n",
       "      <td>1</td>\n",
       "    </tr>\n",
       "    <tr>\n",
       "      <th>1024</th>\n",
       "      <td>54</td>\n",
       "      <td>1</td>\n",
       "      <td>0</td>\n",
       "      <td>120</td>\n",
       "      <td>188</td>\n",
       "      <td>0</td>\n",
       "      <td>1</td>\n",
       "      <td>113</td>\n",
       "      <td>0</td>\n",
       "      <td>1.4</td>\n",
       "      <td>1</td>\n",
       "      <td>1</td>\n",
       "      <td>3</td>\n",
       "      <td>0</td>\n",
       "    </tr>\n",
       "  </tbody>\n",
       "</table>\n",
       "<p>1025 rows × 14 columns</p>\n",
       "</div>"
      ],
      "text/plain": [
       "      age  sex  chest_pain  blood_pressure  cholestrol  blood_sugar  restecg  \\\n",
       "0      52    1           0             125         212            0        1   \n",
       "1      53    1           0             140         203            1        0   \n",
       "2      70    1           0             145         174            0        1   \n",
       "3      61    1           0             148         203            0        1   \n",
       "4      62    0           0             138         294            1        1   \n",
       "...   ...  ...         ...             ...         ...          ...      ...   \n",
       "1020   59    1           1             140         221            0        1   \n",
       "1021   60    1           0             125         258            0        0   \n",
       "1022   47    1           0             110         275            0        0   \n",
       "1023   50    0           0             110         254            0        0   \n",
       "1024   54    1           0             120         188            0        1   \n",
       "\n",
       "      thalach  exang  oldpeak  slope  vessels  thal  target  \n",
       "0         168      0      1.0      2        2     3       0  \n",
       "1         155      1      3.1      0        0     3       0  \n",
       "2         125      1      2.6      0        0     3       0  \n",
       "3         161      0      0.0      2        1     3       0  \n",
       "4         106      0      1.9      1        3     2       0  \n",
       "...       ...    ...      ...    ...      ...   ...     ...  \n",
       "1020      164      1      0.0      2        0     2       1  \n",
       "1021      141      1      2.8      1        1     3       0  \n",
       "1022      118      1      1.0      1        1     2       0  \n",
       "1023      159      0      0.0      2        0     2       1  \n",
       "1024      113      0      1.4      1        1     3       0  \n",
       "\n",
       "[1025 rows x 14 columns]"
      ]
     },
     "execution_count": 5,
     "metadata": {},
     "output_type": "execute_result"
    }
   ],
   "source": [
    "heart_disease"
   ]
  },
  {
   "cell_type": "markdown",
   "id": "e7b522cc",
   "metadata": {
    "papermill": {
     "duration": 0.015316,
     "end_time": "2023-08-09T03:36:33.671980",
     "exception": false,
     "start_time": "2023-08-09T03:36:33.656664",
     "status": "completed"
    },
    "tags": []
   },
   "source": [
    "### Cek untuk mencari Null data"
   ]
  },
  {
   "cell_type": "code",
   "execution_count": 6,
   "id": "b075804c",
   "metadata": {
    "execution": {
     "iopub.execute_input": "2023-08-09T03:36:33.703265Z",
     "iopub.status.busy": "2023-08-09T03:36:33.702882Z",
     "iopub.status.idle": "2023-08-09T03:36:33.722991Z",
     "shell.execute_reply": "2023-08-09T03:36:33.721590Z"
    },
    "papermill": {
     "duration": 0.038059,
     "end_time": "2023-08-09T03:36:33.724962",
     "exception": false,
     "start_time": "2023-08-09T03:36:33.686903",
     "status": "completed"
    },
    "tags": []
   },
   "outputs": [
    {
     "name": "stdout",
     "output_type": "stream",
     "text": [
      "<class 'pandas.core.frame.DataFrame'>\n",
      "RangeIndex: 1025 entries, 0 to 1024\n",
      "Data columns (total 14 columns):\n",
      " #   Column          Non-Null Count  Dtype  \n",
      "---  ------          --------------  -----  \n",
      " 0   age             1025 non-null   int64  \n",
      " 1   sex             1025 non-null   int64  \n",
      " 2   chest_pain      1025 non-null   int64  \n",
      " 3   blood_pressure  1025 non-null   int64  \n",
      " 4   cholestrol      1025 non-null   int64  \n",
      " 5   blood_sugar     1025 non-null   int64  \n",
      " 6   restecg         1025 non-null   int64  \n",
      " 7   thalach         1025 non-null   int64  \n",
      " 8   exang           1025 non-null   int64  \n",
      " 9   oldpeak         1025 non-null   float64\n",
      " 10  slope           1025 non-null   int64  \n",
      " 11  vessels         1025 non-null   int64  \n",
      " 12  thal            1025 non-null   int64  \n",
      " 13  target          1025 non-null   int64  \n",
      "dtypes: float64(1), int64(13)\n",
      "memory usage: 112.2 KB\n"
     ]
    }
   ],
   "source": [
    "heart_disease.info()"
   ]
  },
  {
   "cell_type": "markdown",
   "id": "9b474878",
   "metadata": {
    "papermill": {
     "duration": 0.014406,
     "end_time": "2023-08-09T03:36:33.753965",
     "exception": false,
     "start_time": "2023-08-09T03:36:33.739559",
     "status": "completed"
    },
    "tags": []
   },
   "source": [
    "# Data Visualization"
   ]
  },
  {
   "cell_type": "markdown",
   "id": "a71aac75",
   "metadata": {
    "papermill": {
     "duration": 0.014739,
     "end_time": "2023-08-09T03:36:33.783262",
     "exception": false,
     "start_time": "2023-08-09T03:36:33.768523",
     "status": "completed"
    },
    "tags": []
   },
   "source": [
    "### Ubah beberapa label agar lebih mudah dipahami dalam membaca grafik dalam visualisasi data"
   ]
  },
  {
   "cell_type": "code",
   "execution_count": 7,
   "id": "22fc77ca",
   "metadata": {
    "execution": {
     "iopub.execute_input": "2023-08-09T03:36:33.814700Z",
     "iopub.status.busy": "2023-08-09T03:36:33.814302Z",
     "iopub.status.idle": "2023-08-09T03:36:33.828632Z",
     "shell.execute_reply": "2023-08-09T03:36:33.827897Z"
    },
    "papermill": {
     "duration": 0.033046,
     "end_time": "2023-08-09T03:36:33.830840",
     "exception": false,
     "start_time": "2023-08-09T03:36:33.797794",
     "status": "completed"
    },
    "tags": []
   },
   "outputs": [],
   "source": [
    "heart_disease2 = heart_disease.copy()\n",
    "heart_disease2['target'] = heart_disease2['target'].replace({1:'disease',0:'no disease'})\n",
    "heart_disease2['sex'] = heart_disease2['sex'].replace({1:'Male',0:'Female'})\n",
    "heart_disease2['chest_pain'] = heart_disease2['chest_pain'].replace({0: \"typical_angina\", \n",
    "                                                                    1: \"atypical_angina\", \n",
    "                                                                    2:\"non-anginal pain\",\n",
    "                                                                    3: \"asymtomatic\"})\n",
    "heart_disease2['blood_sugar'] = heart_disease2['blood_sugar'].replace({1:True,0:False})\n",
    "heart_disease2['exang'] = heart_disease2['exang'].replace({1:'Yes',0:'No'})\n",
    "heart_disease2['thal'] = heart_disease2['thal'].replace({1:'fixed_defect',2:\"reversable_defect\",3:\"normal\"})\n",
    "heart_disease2['slope'] = heart_disease2['slope'].replace({0:'unsloping',1:'flat',2:'downsloping'})"
   ]
  },
  {
   "cell_type": "code",
   "execution_count": 8,
   "id": "5c86d360",
   "metadata": {
    "execution": {
     "iopub.execute_input": "2023-08-09T03:36:33.863093Z",
     "iopub.status.busy": "2023-08-09T03:36:33.862472Z",
     "iopub.status.idle": "2023-08-09T03:36:33.869422Z",
     "shell.execute_reply": "2023-08-09T03:36:33.868200Z"
    },
    "papermill": {
     "duration": 0.025201,
     "end_time": "2023-08-09T03:36:33.871673",
     "exception": false,
     "start_time": "2023-08-09T03:36:33.846472",
     "status": "completed"
    },
    "tags": []
   },
   "outputs": [
    {
     "data": {
      "text/plain": [
       "disease       526\n",
       "no disease    499\n",
       "Name: target, dtype: int64"
      ]
     },
     "execution_count": 8,
     "metadata": {},
     "output_type": "execute_result"
    }
   ],
   "source": [
    "data_barplot = heart_disease2['target'].value_counts()\n",
    "data_barplot"
   ]
  },
  {
   "cell_type": "code",
   "execution_count": 9,
   "id": "3ec0b4c4",
   "metadata": {
    "execution": {
     "iopub.execute_input": "2023-08-09T03:36:33.903489Z",
     "iopub.status.busy": "2023-08-09T03:36:33.903049Z",
     "iopub.status.idle": "2023-08-09T03:36:34.043513Z",
     "shell.execute_reply": "2023-08-09T03:36:34.042420Z"
    },
    "papermill": {
     "duration": 0.15888,
     "end_time": "2023-08-09T03:36:34.045775",
     "exception": false,
     "start_time": "2023-08-09T03:36:33.886895",
     "status": "completed"
    },
    "tags": []
   },
   "outputs": [
    {
     "data": {
      "image/png": "[encoded data removed]",
      "text/plain": [
       "<Figure size 360x288 with 1 Axes>"
      ]
     },
     "metadata": {
      "needs_background": "light"
     },
     "output_type": "display_data"
    }
   ],
   "source": [
    "#Visualisasi data jumlah pasien yang sakit jantung\n",
    "plt.figure(figsize=(5,4))\n",
    "barplot = sns.barplot(y = data_barplot.values,x=data_barplot.index)\n",
    "plt.title('Jumlah pasien yang mengidap penyakit jantung')\n",
    "plt.xlabel('target')\n",
    "plt.ylabel('jumlah pasien')\n",
    "for i in range(len(data_barplot)):\n",
    "    plt.text(i, (data_barplot.values[i]-50), data_barplot.values[i], horizontalalignment='center')\n",
    "plt.show()"
   ]
  },
  {
   "cell_type": "markdown",
   "id": "4f0f61b3",
   "metadata": {
    "papermill": {
     "duration": 0.016392,
     "end_time": "2023-08-09T03:36:34.082317",
     "exception": false,
     "start_time": "2023-08-09T03:36:34.065925",
     "status": "completed"
    },
    "tags": []
   },
   "source": [
    "Dari visualisasi tersebut dilihat bahwa penderita sakit jantung lebih banyak daripada yang tidak menderita"
   ]
  },
  {
   "cell_type": "markdown",
   "id": "d6e7863f",
   "metadata": {
    "papermill": {
     "duration": 0.015195,
     "end_time": "2023-08-09T03:36:34.113515",
     "exception": false,
     "start_time": "2023-08-09T03:36:34.098320",
     "status": "completed"
    },
    "tags": []
   },
   "source": [
    "### Barplot sex distribution according to target"
   ]
  },
  {
   "cell_type": "code",
   "execution_count": 10,
   "id": "ba14eb47",
   "metadata": {
    "execution": {
     "iopub.execute_input": "2023-08-09T03:36:34.147310Z",
     "iopub.status.busy": "2023-08-09T03:36:34.146906Z",
     "iopub.status.idle": "2023-08-09T03:36:34.314506Z",
     "shell.execute_reply": "2023-08-09T03:36:34.313238Z"
    },
    "papermill": {
     "duration": 0.187694,
     "end_time": "2023-08-09T03:36:34.316500",
     "exception": false,
     "start_time": "2023-08-09T03:36:34.128806",
     "status": "completed"
    },
    "tags": []
   },
   "outputs": [
    {
     "data": {
      "image/png": "[encoded data removed]",
      "text/plain": [
       "<Figure size 576x360 with 1 Axes>"
      ]
     },
     "metadata": {
      "needs_background": "light"
     },
     "output_type": "display_data"
    }
   ],
   "source": [
    "fig, ax = plt.subplots(figsize=(8,5))\n",
    "ax = sns.countplot(x='sex', data=heart_disease2, hue='target',palette='Set2')\n",
    "plt.title('Sex distribution according to target')\n",
    "\n",
    "totals = []\n",
    "for i in ax.patches:\n",
    "    totals.append(i.get_height())\n",
    "total = sum(totals)\n",
    "for i in ax.patches:\n",
    "    ax.text(i.get_x()+0.12, i.get_height()-20, str(i.get_height()),fontsize=14, color='white',weight='bold',horizontalalignment='left')\n",
    "plt.show()\n",
    "    "
   ]
  },
  {
   "cell_type": "markdown",
   "id": "a49c70f7",
   "metadata": {
    "papermill": {
     "duration": 0.015268,
     "end_time": "2023-08-09T03:36:34.347351",
     "exception": false,
     "start_time": "2023-08-09T03:36:34.332083",
     "status": "completed"
    },
    "tags": []
   },
   "source": [
    "Dilihat dari grafiknya bahwa pasien pria lebih banyak mengidap penyakit jantung daripada pasien wanita"
   ]
  },
  {
   "cell_type": "markdown",
   "id": "00fbba2d",
   "metadata": {
    "papermill": {
     "duration": 0.015014,
     "end_time": "2023-08-09T03:36:34.377865",
     "exception": false,
     "start_time": "2023-08-09T03:36:34.362851",
     "status": "completed"
    },
    "tags": []
   },
   "source": [
    "### Barplot exang according to target"
   ]
  },
  {
   "cell_type": "code",
   "execution_count": 11,
   "id": "e6b8e820",
   "metadata": {
    "execution": {
     "iopub.execute_input": "2023-08-09T03:36:34.410374Z",
     "iopub.status.busy": "2023-08-09T03:36:34.409746Z",
     "iopub.status.idle": "2023-08-09T03:36:34.551094Z",
     "shell.execute_reply": "2023-08-09T03:36:34.549702Z"
    },
    "papermill": {
     "duration": 0.16027,
     "end_time": "2023-08-09T03:36:34.553423",
     "exception": false,
     "start_time": "2023-08-09T03:36:34.393153",
     "status": "completed"
    },
    "tags": []
   },
   "outputs": [
    {
     "data": {
      "image/png": "[encoded data removed]",
      "text/plain": [
       "<Figure size 576x360 with 1 Axes>"
      ]
     },
     "metadata": {
      "needs_background": "light"
     },
     "output_type": "display_data"
    }
   ],
   "source": [
    "fig, ax = plt.subplots(figsize=(8,5))\n",
    "ax = sns.countplot(x='exang', data=heart_disease2, hue='target',palette='Set2')\n",
    "plt.title('Exang according to target')\n",
    "\n",
    "totals = []\n",
    "for i in ax.patches:\n",
    "    totals.append(i.get_height())\n",
    "total = sum(totals)\n",
    "for i in ax.patches:\n",
    "    ax.text(i.get_x()+0.12, i.get_height()-20, str(i.get_height()),fontsize=14, color='white',weight='bold',horizontalalignment='left')\n",
    "plt.show()\n",
    "    "
   ]
  },
  {
   "cell_type": "markdown",
   "id": "8abd83db",
   "metadata": {
    "papermill": {
     "duration": 0.01523,
     "end_time": "2023-08-09T03:36:34.587017",
     "exception": false,
     "start_time": "2023-08-09T03:36:34.571787",
     "status": "completed"
    },
    "tags": []
   },
   "source": [
    "Exang yang no lebih banyak memiliki pasien yang mengidap penyakit jantung daripada yang yes sehingga ketika pasien memiliki exang no lebih beresiko mengidap penyakit jantung"
   ]
  },
  {
   "cell_type": "markdown",
   "id": "344391a4",
   "metadata": {
    "papermill": {
     "duration": 0.015354,
     "end_time": "2023-08-09T03:36:34.617878",
     "exception": false,
     "start_time": "2023-08-09T03:36:34.602524",
     "status": "completed"
    },
    "tags": []
   },
   "source": [
    "### Barplot Chest_pain distribution according to target"
   ]
  },
  {
   "cell_type": "code",
   "execution_count": 12,
   "id": "67a65576",
   "metadata": {
    "execution": {
     "iopub.execute_input": "2023-08-09T03:36:34.650432Z",
     "iopub.status.busy": "2023-08-09T03:36:34.650042Z",
     "iopub.status.idle": "2023-08-09T03:36:34.826727Z",
     "shell.execute_reply": "2023-08-09T03:36:34.825820Z"
    },
    "papermill": {
     "duration": 0.196361,
     "end_time": "2023-08-09T03:36:34.829763",
     "exception": false,
     "start_time": "2023-08-09T03:36:34.633402",
     "status": "completed"
    },
    "tags": []
   },
   "outputs": [
    {
     "data": {
      "image/png": "[encoded data removed]",
      "text/plain": [
       "<Figure size 576x360 with 1 Axes>"
      ]
     },
     "metadata": {
      "needs_background": "light"
     },
     "output_type": "display_data"
    }
   ],
   "source": [
    "fig, ax = plt.subplots(figsize=(8,5))\n",
    "ax = sns.countplot(x='chest_pain', data=heart_disease2, hue='target',palette='Set2')\n",
    "plt.title('Chest pain according to target')\n",
    "\n",
    "totals = []\n",
    "for i in ax.patches:\n",
    "    totals.append(i.get_height())\n",
    "total = sum(totals)\n",
    "for i in ax.patches:\n",
    "    ax.text(i.get_x()+0.07, i.get_height()-20, str(i.get_height()),fontsize=14, color='white',weight='bold',horizontalalignment='left')\n",
    "plt.show()\n",
    "    "
   ]
  },
  {
   "cell_type": "markdown",
   "id": "219f864c",
   "metadata": {
    "papermill": {
     "duration": 0.015621,
     "end_time": "2023-08-09T03:36:34.861721",
     "exception": false,
     "start_time": "2023-08-09T03:36:34.846100",
     "status": "completed"
    },
    "tags": []
   },
   "source": [
    "pasien terbanyak pengidap jantung adalah chest pain non-anginal pain dan pasien terbanyak yang tidak mengidap penyakit jantung adalah typical_angina"
   ]
  },
  {
   "cell_type": "markdown",
   "id": "ccae43f7",
   "metadata": {
    "papermill": {
     "duration": 0.01578,
     "end_time": "2023-08-09T03:36:34.893637",
     "exception": false,
     "start_time": "2023-08-09T03:36:34.877857",
     "status": "completed"
    },
    "tags": []
   },
   "source": [
    "### Barplot blood sugar according to target"
   ]
  },
  {
   "cell_type": "code",
   "execution_count": 13,
   "id": "1df29fba",
   "metadata": {
    "execution": {
     "iopub.execute_input": "2023-08-09T03:36:34.929963Z",
     "iopub.status.busy": "2023-08-09T03:36:34.929366Z",
     "iopub.status.idle": "2023-08-09T03:36:35.075776Z",
     "shell.execute_reply": "2023-08-09T03:36:35.075013Z"
    },
    "papermill": {
     "duration": 0.168034,
     "end_time": "2023-08-09T03:36:35.077825",
     "exception": false,
     "start_time": "2023-08-09T03:36:34.909791",
     "status": "completed"
    },
    "tags": []
   },
   "outputs": [
    {
     "data": {
      "image/png": "[encoded data removed]",
      "text/plain": [
       "<Figure size 576x360 with 1 Axes>"
      ]
     },
     "metadata": {
      "needs_background": "light"
     },
     "output_type": "display_data"
    }
   ],
   "source": [
    "fig, ax = plt.subplots(figsize=(8,5))\n",
    "ax = sns.countplot(x='blood_sugar', data=heart_disease2, hue='target',palette='Set2')\n",
    "plt.title('Blood sugar according to target')\n",
    "\n",
    "totals = []\n",
    "for i in ax.patches:\n",
    "    totals.append(i.get_height())\n",
    "total = sum(totals)\n",
    "for i in ax.patches:\n",
    "    ax.text(i.get_x()+0.12, i.get_height()-20, str(i.get_height()),fontsize=14, color='white',weight='bold',horizontalalignment='left')\n",
    "plt.show()\n",
    "    "
   ]
  },
  {
   "cell_type": "markdown",
   "id": "b9e6316e",
   "metadata": {
    "papermill": {
     "duration": 0.016645,
     "end_time": "2023-08-09T03:36:35.112452",
     "exception": false,
     "start_time": "2023-08-09T03:36:35.095807",
     "status": "completed"
    },
    "tags": []
   },
   "source": [
    "pasien terbanyak yang mengidap penyakit jantung dan yang tidak adalah yang memiliki gula darah > 120mg/dl"
   ]
  },
  {
   "cell_type": "markdown",
   "id": "38168c6a",
   "metadata": {
    "papermill": {
     "duration": 0.015953,
     "end_time": "2023-08-09T03:36:35.144894",
     "exception": false,
     "start_time": "2023-08-09T03:36:35.128941",
     "status": "completed"
    },
    "tags": []
   },
   "source": [
    "### Barplot slope according to target"
   ]
  },
  {
   "cell_type": "code",
   "execution_count": 14,
   "id": "b26c13c2",
   "metadata": {
    "execution": {
     "iopub.execute_input": "2023-08-09T03:36:35.179264Z",
     "iopub.status.busy": "2023-08-09T03:36:35.178805Z",
     "iopub.status.idle": "2023-08-09T03:36:35.344226Z",
     "shell.execute_reply": "2023-08-09T03:36:35.343308Z"
    },
    "papermill": {
     "duration": 0.185393,
     "end_time": "2023-08-09T03:36:35.346369",
     "exception": false,
     "start_time": "2023-08-09T03:36:35.160976",
     "status": "completed"
    },
    "tags": []
   },
   "outputs": [
    {
     "data": {
      "image/png": "[encoded data removed]",
      "text/plain": [
       "<Figure size 576x360 with 1 Axes>"
      ]
     },
     "metadata": {
      "needs_background": "light"
     },
     "output_type": "display_data"
    }
   ],
   "source": [
    "fig, ax = plt.subplots(figsize=(8,5))\n",
    "ax = sns.countplot(x='slope', data=heart_disease2, hue='target',palette='Set2')\n",
    "plt.title('Slope according to target')\n",
    "\n",
    "totals = []\n",
    "for i in ax.patches:\n",
    "    totals.append(i.get_height())\n",
    "total = sum(totals)\n",
    "for i in ax.patches:\n",
    "    ax.text(i.get_x()+0.07, i.get_height()-20, str(i.get_height()),fontsize=14, color='white',weight='bold',horizontalalignment='left')\n",
    "plt.show()\n",
    "    "
   ]
  },
  {
   "cell_type": "markdown",
   "id": "ab88139a",
   "metadata": {
    "papermill": {
     "duration": 0.016337,
     "end_time": "2023-08-09T03:36:35.379386",
     "exception": false,
     "start_time": "2023-08-09T03:36:35.363049",
     "status": "completed"
    },
    "tags": []
   },
   "source": [
    "Slope dengan downloping lebih banyak yang mengidap penyakit jantung daripada unsloping slope dan flat sehingga downsloping lebih beresiko mengidap penyakit jantung"
   ]
  },
  {
   "cell_type": "markdown",
   "id": "192f0996",
   "metadata": {
    "papermill": {
     "duration": 0.016758,
     "end_time": "2023-08-09T03:36:35.413181",
     "exception": false,
     "start_time": "2023-08-09T03:36:35.396423",
     "status": "completed"
    },
    "tags": []
   },
   "source": [
    "### Histogram age according to target"
   ]
  },
  {
   "cell_type": "code",
   "execution_count": 15,
   "id": "c0ed943b",
   "metadata": {
    "execution": {
     "iopub.execute_input": "2023-08-09T03:36:35.457966Z",
     "iopub.status.busy": "2023-08-09T03:36:35.457187Z",
     "iopub.status.idle": "2023-08-09T03:36:35.706035Z",
     "shell.execute_reply": "2023-08-09T03:36:35.704864Z"
    },
    "papermill": {
     "duration": 0.272214,
     "end_time": "2023-08-09T03:36:35.708171",
     "exception": false,
     "start_time": "2023-08-09T03:36:35.435957",
     "status": "completed"
    },
    "tags": []
   },
   "outputs": [
    {
     "data": {
      "image/png": "[encoded data removed]",
      "text/plain": [
       "<Figure size 432x288 with 1 Axes>"
      ]
     },
     "metadata": {
      "needs_background": "light"
     },
     "output_type": "display_data"
    }
   ],
   "source": [
    "sns.histplot(x='age', data=heart_disease2, hue='target')\n",
    "plt.title('Histogram age according to target')\n",
    "plt.show()"
   ]
  },
  {
   "cell_type": "markdown",
   "id": "191c98de",
   "metadata": {
    "papermill": {
     "duration": 0.017614,
     "end_time": "2023-08-09T03:36:35.742483",
     "exception": false,
     "start_time": "2023-08-09T03:36:35.724869",
     "status": "completed"
    },
    "tags": []
   },
   "source": [
    "Pasieng yang memilik umur lebih dari 40 tahun lebih banyak mengidap penyakit jantung. Maka ketika umur lebih dari 40 tahun akan beresiko lebih mengidap penyakit jantung"
   ]
  },
  {
   "cell_type": "markdown",
   "id": "f816755d",
   "metadata": {
    "papermill": {
     "duration": 0.018535,
     "end_time": "2023-08-09T03:36:35.779771",
     "exception": false,
     "start_time": "2023-08-09T03:36:35.761236",
     "status": "completed"
    },
    "tags": []
   },
   "source": [
    "### Histogram cholestrol according to age"
   ]
  },
  {
   "cell_type": "code",
   "execution_count": 16,
   "id": "17c1ea4a",
   "metadata": {
    "execution": {
     "iopub.execute_input": "2023-08-09T03:36:35.815572Z",
     "iopub.status.busy": "2023-08-09T03:36:35.815233Z",
     "iopub.status.idle": "2023-08-09T03:36:36.108582Z",
     "shell.execute_reply": "2023-08-09T03:36:36.107439Z"
    },
    "papermill": {
     "duration": 0.313999,
     "end_time": "2023-08-09T03:36:36.110662",
     "exception": false,
     "start_time": "2023-08-09T03:36:35.796663",
     "status": "completed"
    },
    "tags": []
   },
   "outputs": [
    {
     "data": {
      "image/png": "[encoded data removed]",
      "text/plain": [
       "<Figure size 576x432 with 1 Axes>"
      ]
     },
     "metadata": {
      "needs_background": "light"
     },
     "output_type": "display_data"
    }
   ],
   "source": [
    "plt.figure(figsize=(8,6))\n",
    "sns.histplot(x='cholestrol', data=heart_disease2,hue='target')\n",
    "plt.title('Histogram cholestrol according to target')\n",
    "plt.show()"
   ]
  },
  {
   "cell_type": "markdown",
   "id": "eb01651f",
   "metadata": {
    "papermill": {
     "duration": 0.01672,
     "end_time": "2023-08-09T03:36:36.144581",
     "exception": false,
     "start_time": "2023-08-09T03:36:36.127861",
     "status": "completed"
    },
    "tags": []
   },
   "source": [
    "Pasien yang memiliki cholestrol >200 dan cholestrol < 400 lebih banyak yang mengidap penyakit jantung"
   ]
  },
  {
   "cell_type": "markdown",
   "id": "b65668a7",
   "metadata": {
    "papermill": {
     "duration": 0.017382,
     "end_time": "2023-08-09T03:36:36.180815",
     "exception": false,
     "start_time": "2023-08-09T03:36:36.163433",
     "status": "completed"
    },
    "tags": []
   },
   "source": [
    "### Histogram blood pressure according to target"
   ]
  },
  {
   "cell_type": "code",
   "execution_count": 17,
   "id": "ebbcb132",
   "metadata": {
    "execution": {
     "iopub.execute_input": "2023-08-09T03:36:36.217177Z",
     "iopub.status.busy": "2023-08-09T03:36:36.216816Z",
     "iopub.status.idle": "2023-08-09T03:36:36.479513Z",
     "shell.execute_reply": "2023-08-09T03:36:36.478141Z"
    },
    "papermill": {
     "duration": 0.283324,
     "end_time": "2023-08-09T03:36:36.481719",
     "exception": false,
     "start_time": "2023-08-09T03:36:36.198395",
     "status": "completed"
    },
    "tags": []
   },
   "outputs": [
    {
     "data": {
      "image/png": "[encoded data removed]",
      "text/plain": [
       "<Figure size 432x288 with 1 Axes>"
      ]
     },
     "metadata": {
      "needs_background": "light"
     },
     "output_type": "display_data"
    }
   ],
   "source": [
    "sns.histplot(x='blood_pressure',data=heart_disease2,hue='target')\n",
    "plt.title('Histogram blood_pressure according to target')\n",
    "plt.show()"
   ]
  },
  {
   "cell_type": "markdown",
   "id": "d7344fda",
   "metadata": {
    "papermill": {
     "duration": 0.017024,
     "end_time": "2023-08-09T03:36:36.516376",
     "exception": false,
     "start_time": "2023-08-09T03:36:36.499352",
     "status": "completed"
    },
    "tags": []
   },
   "source": [
    "Pasien yang memiliki tekanan darah lebih dari 120 dan kurang dari 140 banyak yg terkena penyakit jantung"
   ]
  },
  {
   "cell_type": "markdown",
   "id": "60c8e32f",
   "metadata": {
    "papermill": {
     "duration": 0.017017,
     "end_time": "2023-08-09T03:36:36.550702",
     "exception": false,
     "start_time": "2023-08-09T03:36:36.533685",
     "status": "completed"
    },
    "tags": []
   },
   "source": [
    "### Histogram thalach according to target"
   ]
  },
  {
   "cell_type": "code",
   "execution_count": 18,
   "id": "dec59d85",
   "metadata": {
    "execution": {
     "iopub.execute_input": "2023-08-09T03:36:36.586721Z",
     "iopub.status.busy": "2023-08-09T03:36:36.586344Z",
     "iopub.status.idle": "2023-08-09T03:36:36.845752Z",
     "shell.execute_reply": "2023-08-09T03:36:36.844513Z"
    },
    "papermill": {
     "duration": 0.280049,
     "end_time": "2023-08-09T03:36:36.847793",
     "exception": false,
     "start_time": "2023-08-09T03:36:36.567744",
     "status": "completed"
    },
    "tags": []
   },
   "outputs": [
    {
     "data": {
      "image/png": "[encoded data removed]",
      "text/plain": [
       "<Figure size 432x288 with 1 Axes>"
      ]
     },
     "metadata": {
      "needs_background": "light"
     },
     "output_type": "display_data"
    }
   ],
   "source": [
    "sns.histplot(x='thalach',data=heart_disease2,hue='target')\n",
    "plt.title('Histogram thalach according to target')\n",
    "plt.show()"
   ]
  },
  {
   "cell_type": "markdown",
   "id": "996a690b",
   "metadata": {
    "papermill": {
     "duration": 0.01684,
     "end_time": "2023-08-09T03:36:36.881826",
     "exception": false,
     "start_time": "2023-08-09T03:36:36.864986",
     "status": "completed"
    },
    "tags": []
   },
   "source": [
    "pasien yang terkena penyakit jantung banyak yang memilik thalach > 140"
   ]
  },
  {
   "cell_type": "markdown",
   "id": "11ee7c69",
   "metadata": {
    "papermill": {
     "duration": 0.017338,
     "end_time": "2023-08-09T03:36:36.916961",
     "exception": false,
     "start_time": "2023-08-09T03:36:36.899623",
     "status": "completed"
    },
    "tags": []
   },
   "source": [
    "### Histogram oldpeak according to target"
   ]
  },
  {
   "cell_type": "code",
   "execution_count": 19,
   "id": "d36c8980",
   "metadata": {
    "execution": {
     "iopub.execute_input": "2023-08-09T03:36:36.955762Z",
     "iopub.status.busy": "2023-08-09T03:36:36.955391Z",
     "iopub.status.idle": "2023-08-09T03:36:37.189476Z",
     "shell.execute_reply": "2023-08-09T03:36:37.188248Z"
    },
    "papermill": {
     "duration": 0.255594,
     "end_time": "2023-08-09T03:36:37.192151",
     "exception": false,
     "start_time": "2023-08-09T03:36:36.936557",
     "status": "completed"
    },
    "tags": []
   },
   "outputs": [
    {
     "data": {
      "image/png": "[encoded data removed]",
      "text/plain": [
       "<Figure size 432x288 with 1 Axes>"
      ]
     },
     "metadata": {
      "needs_background": "light"
     },
     "output_type": "display_data"
    }
   ],
   "source": [
    "sns.histplot(x='oldpeak',data=heart_disease2,hue='target')\n",
    "plt.title('Histogram oldpeak according to target')\n",
    "plt.show()"
   ]
  },
  {
   "cell_type": "markdown",
   "id": "7e682b5c",
   "metadata": {
    "papermill": {
     "duration": 0.01717,
     "end_time": "2023-08-09T03:36:37.227141",
     "exception": false,
     "start_time": "2023-08-09T03:36:37.209971",
     "status": "completed"
    },
    "tags": []
   },
   "source": [
    "oldpeak dari 0 sampai 1 lebih banyak yang terkena penyakit jantung"
   ]
  },
  {
   "cell_type": "markdown",
   "id": "1f42ffcb",
   "metadata": {
    "papermill": {
     "duration": 0.017023,
     "end_time": "2023-08-09T03:36:37.261850",
     "exception": false,
     "start_time": "2023-08-09T03:36:37.244827",
     "status": "completed"
    },
    "tags": []
   },
   "source": [
    "### Heatmap Correlation Matrix"
   ]
  },
  {
   "cell_type": "code",
   "execution_count": 20,
   "id": "4ceb0caa",
   "metadata": {
    "execution": {
     "iopub.execute_input": "2023-08-09T03:36:37.298232Z",
     "iopub.status.busy": "2023-08-09T03:36:37.297836Z",
     "iopub.status.idle": "2023-08-09T03:36:38.223082Z",
     "shell.execute_reply": "2023-08-09T03:36:38.222102Z"
    },
    "papermill": {
     "duration": 0.94613,
     "end_time": "2023-08-09T03:36:38.225435",
     "exception": false,
     "start_time": "2023-08-09T03:36:37.279305",
     "status": "completed"
    },
    "tags": []
   },
   "outputs": [
    {
     "data": {
      "image/png": "[encoded data removed]",
      "text/plain": [
       "<Figure size 720x504 with 2 Axes>"
      ]
     },
     "metadata": {
      "needs_background": "light"
     },
     "output_type": "display_data"
    }
   ],
   "source": [
    "plt.figure(figsize=(10,7))\n",
    "sns.heatmap(heart_disease.corr(),annot=True,cmap='Blues')\n",
    "plt.title('Heatmap Correlation Matrix Heart Disease Dataset')\n",
    "plt.show()"
   ]
  },
  {
   "cell_type": "code",
   "execution_count": 21,
   "id": "9d24e248",
   "metadata": {
    "execution": {
     "iopub.execute_input": "2023-08-09T03:36:38.266253Z",
     "iopub.status.busy": "2023-08-09T03:36:38.265145Z",
     "iopub.status.idle": "2023-08-09T03:36:38.528022Z",
     "shell.execute_reply": "2023-08-09T03:36:38.527026Z"
    },
    "papermill": {
     "duration": 0.286513,
     "end_time": "2023-08-09T03:36:38.530443",
     "exception": false,
     "start_time": "2023-08-09T03:36:38.243930",
     "status": "completed"
    },
    "tags": []
   },
   "outputs": [
    {
     "data": {
      "image/png": "[encoded data removed]",
      "text/plain": [
       "<Figure size 1440x720 with 1 Axes>"
      ]
     },
     "metadata": {
      "needs_background": "light"
     },
     "output_type": "display_data"
    }
   ],
   "source": [
    "sns.set_context('notebook',font_scale = 2.3)\n",
    "heart_disease.drop('target', axis=1).corrwith(heart_disease.target).plot(kind='bar', grid=True, figsize=(20, 10), \n",
    "                                                        title=\"Correlation with the target feature\")\n",
    "plt.show()"
   ]
  },
  {
   "cell_type": "markdown",
   "id": "103a573c",
   "metadata": {
    "papermill": {
     "duration": 0.018718,
     "end_time": "2023-08-09T03:36:38.568691",
     "exception": false,
     "start_time": "2023-08-09T03:36:38.549973",
     "status": "completed"
    },
    "tags": []
   },
   "source": [
    "Nilai korelasi terhadap target dari 14 data hanya ada 4 data yang bernilai positif, yaitu chest_pain, restecg,thalach, dan slope. Dari ke-4 data tersebut adalah yang paling mepengaruhi pasien menderati penyakit jantung"
   ]
  },
  {
   "cell_type": "markdown",
   "id": "606bb30e",
   "metadata": {
    "papermill": {
     "duration": 0.019397,
     "end_time": "2023-08-09T03:36:38.607849",
     "exception": false,
     "start_time": "2023-08-09T03:36:38.588452",
     "status": "completed"
    },
    "tags": []
   },
   "source": [
    "# Exploratory Data Analysis(EDA)"
   ]
  },
  {
   "cell_type": "markdown",
   "id": "86ecd041",
   "metadata": {
    "papermill": {
     "duration": 0.018925,
     "end_time": "2023-08-09T03:36:38.645880",
     "exception": false,
     "start_time": "2023-08-09T03:36:38.626955",
     "status": "completed"
    },
    "tags": []
   },
   "source": [
    "### Periksa statistika deskriptif dari dataset"
   ]
  },
  {
   "cell_type": "code",
   "execution_count": 22,
   "id": "83a76207",
   "metadata": {
    "execution": {
     "iopub.execute_input": "2023-08-09T03:36:38.686174Z",
     "iopub.status.busy": "2023-08-09T03:36:38.685782Z",
     "iopub.status.idle": "2023-08-09T03:36:38.727768Z",
     "shell.execute_reply": "2023-08-09T03:36:38.726569Z"
    },
    "papermill": {
     "duration": 0.064826,
     "end_time": "2023-08-09T03:36:38.729798",
     "exception": false,
     "start_time": "2023-08-09T03:36:38.664972",
     "status": "completed"
    },
    "tags": []
   },
   "outputs": [
    {
     "data": {
      "text/html": [
       "<div>\n",
       "<style scoped>\n",
       "    .dataframe tbody tr th:only-of-type {\n",
       "        vertical-align: middle;\n",
       "    }\n",
       "\n",
       "    .dataframe tbody tr th {\n",
       "        vertical-align: top;\n",
       "    }\n",
       "\n",
       "    .dataframe thead th {\n",
       "        text-align: right;\n",
       "    }\n",
       "</style>\n",
       "<table border=\"1\" class=\"dataframe\">\n",
       "  <thead>\n",
       "    <tr style=\"text-align: right;\">\n",
       "      <th></th>\n",
       "      <th>age</th>\n",
       "      <th>sex</th>\n",
       "      <th>chest_pain</th>\n",
       "      <th>blood_pressure</th>\n",
       "      <th>cholestrol</th>\n",
       "      <th>blood_sugar</th>\n",
       "      <th>restecg</th>\n",
       "      <th>thalach</th>\n",
       "      <th>exang</th>\n",
       "      <th>oldpeak</th>\n",
       "      <th>slope</th>\n",
       "      <th>vessels</th>\n",
       "      <th>thal</th>\n",
       "      <th>target</th>\n",
       "    </tr>\n",
       "  </thead>\n",
       "  <tbody>\n",
       "    <tr>\n",
       "      <th>count</th>\n",
       "      <td>1025.000000</td>\n",
       "      <td>1025.000000</td>\n",
       "      <td>1025.000000</td>\n",
       "      <td>1025.000000</td>\n",
       "      <td>1025.00000</td>\n",
       "      <td>1025.000000</td>\n",
       "      <td>1025.000000</td>\n",
       "      <td>1025.000000</td>\n",
       "      <td>1025.000000</td>\n",
       "      <td>1025.000000</td>\n",
       "      <td>1025.000000</td>\n",
       "      <td>1025.000000</td>\n",
       "      <td>1025.000000</td>\n",
       "      <td>1025.000000</td>\n",
       "    </tr>\n",
       "    <tr>\n",
       "      <th>mean</th>\n",
       "      <td>54.434146</td>\n",
       "      <td>0.695610</td>\n",
       "      <td>0.942439</td>\n",
       "      <td>131.611707</td>\n",
       "      <td>246.00000</td>\n",
       "      <td>0.149268</td>\n",
       "      <td>0.529756</td>\n",
       "      <td>149.114146</td>\n",
       "      <td>0.336585</td>\n",
       "      <td>1.071512</td>\n",
       "      <td>1.385366</td>\n",
       "      <td>0.754146</td>\n",
       "      <td>2.323902</td>\n",
       "      <td>0.513171</td>\n",
       "    </tr>\n",
       "    <tr>\n",
       "      <th>std</th>\n",
       "      <td>9.072290</td>\n",
       "      <td>0.460373</td>\n",
       "      <td>1.029641</td>\n",
       "      <td>17.516718</td>\n",
       "      <td>51.59251</td>\n",
       "      <td>0.356527</td>\n",
       "      <td>0.527878</td>\n",
       "      <td>23.005724</td>\n",
       "      <td>0.472772</td>\n",
       "      <td>1.175053</td>\n",
       "      <td>0.617755</td>\n",
       "      <td>1.030798</td>\n",
       "      <td>0.620660</td>\n",
       "      <td>0.500070</td>\n",
       "    </tr>\n",
       "    <tr>\n",
       "      <th>min</th>\n",
       "      <td>29.000000</td>\n",
       "      <td>0.000000</td>\n",
       "      <td>0.000000</td>\n",
       "      <td>94.000000</td>\n",
       "      <td>126.00000</td>\n",
       "      <td>0.000000</td>\n",
       "      <td>0.000000</td>\n",
       "      <td>71.000000</td>\n",
       "      <td>0.000000</td>\n",
       "      <td>0.000000</td>\n",
       "      <td>0.000000</td>\n",
       "      <td>0.000000</td>\n",
       "      <td>0.000000</td>\n",
       "      <td>0.000000</td>\n",
       "    </tr>\n",
       "    <tr>\n",
       "      <th>25%</th>\n",
       "      <td>48.000000</td>\n",
       "      <td>0.000000</td>\n",
       "      <td>0.000000</td>\n",
       "      <td>120.000000</td>\n",
       "      <td>211.00000</td>\n",
       "      <td>0.000000</td>\n",
       "      <td>0.000000</td>\n",
       "      <td>132.000000</td>\n",
       "      <td>0.000000</td>\n",
       "      <td>0.000000</td>\n",
       "      <td>1.000000</td>\n",
       "      <td>0.000000</td>\n",
       "      <td>2.000000</td>\n",
       "      <td>0.000000</td>\n",
       "    </tr>\n",
       "    <tr>\n",
       "      <th>50%</th>\n",
       "      <td>56.000000</td>\n",
       "      <td>1.000000</td>\n",
       "      <td>1.000000</td>\n",
       "      <td>130.000000</td>\n",
       "      <td>240.00000</td>\n",
       "      <td>0.000000</td>\n",
       "      <td>1.000000</td>\n",
       "      <td>152.000000</td>\n",
       "      <td>0.000000</td>\n",
       "      <td>0.800000</td>\n",
       "      <td>1.000000</td>\n",
       "      <td>0.000000</td>\n",
       "      <td>2.000000</td>\n",
       "      <td>1.000000</td>\n",
       "    </tr>\n",
       "    <tr>\n",
       "      <th>75%</th>\n",
       "      <td>61.000000</td>\n",
       "      <td>1.000000</td>\n",
       "      <td>2.000000</td>\n",
       "      <td>140.000000</td>\n",
       "      <td>275.00000</td>\n",
       "      <td>0.000000</td>\n",
       "      <td>1.000000</td>\n",
       "      <td>166.000000</td>\n",
       "      <td>1.000000</td>\n",
       "      <td>1.800000</td>\n",
       "      <td>2.000000</td>\n",
       "      <td>1.000000</td>\n",
       "      <td>3.000000</td>\n",
       "      <td>1.000000</td>\n",
       "    </tr>\n",
       "    <tr>\n",
       "      <th>max</th>\n",
       "      <td>77.000000</td>\n",
       "      <td>1.000000</td>\n",
       "      <td>3.000000</td>\n",
       "      <td>200.000000</td>\n",
       "      <td>564.00000</td>\n",
       "      <td>1.000000</td>\n",
       "      <td>2.000000</td>\n",
       "      <td>202.000000</td>\n",
       "      <td>1.000000</td>\n",
       "      <td>6.200000</td>\n",
       "      <td>2.000000</td>\n",
       "      <td>4.000000</td>\n",
       "      <td>3.000000</td>\n",
       "      <td>1.000000</td>\n",
       "    </tr>\n",
       "  </tbody>\n",
       "</table>\n",
       "</div>"
      ],
      "text/plain": [
       "               age          sex   chest_pain  blood_pressure  cholestrol  \\\n",
       "count  1025.000000  1025.000000  1025.000000     1025.000000  1025.00000   \n",
       "mean     54.434146     0.695610     0.942439      131.611707   246.00000   \n",
       "std       9.072290     0.460373     1.029641       17.516718    51.59251   \n",
       "min      29.000000     0.000000     0.000000       94.000000   126.00000   \n",
       "25%      48.000000     0.000000     0.000000      120.000000   211.00000   \n",
       "50%      56.000000     1.000000     1.000000      130.000000   240.00000   \n",
       "75%      61.000000     1.000000     2.000000      140.000000   275.00000   \n",
       "max      77.000000     1.000000     3.000000      200.000000   564.00000   \n",
       "\n",
       "       blood_sugar      restecg      thalach        exang      oldpeak  \\\n",
       "count  1025.000000  1025.000000  1025.000000  1025.000000  1025.000000   \n",
       "mean      0.149268     0.529756   149.114146     0.336585     1.071512   \n",
       "std       0.356527     0.527878    23.005724     0.472772     1.175053   \n",
       "min       0.000000     0.000000    71.000000     0.000000     0.000000   \n",
       "25%       0.000000     0.000000   132.000000     0.000000     0.000000   \n",
       "50%       0.000000     1.000000   152.000000     0.000000     0.800000   \n",
       "75%       0.000000     1.000000   166.000000     1.000000     1.800000   \n",
       "max       1.000000     2.000000   202.000000     1.000000     6.200000   \n",
       "\n",
       "             slope      vessels         thal       target  \n",
       "count  1025.000000  1025.000000  1025.000000  1025.000000  \n",
       "mean      1.385366     0.754146     2.323902     0.513171  \n",
       "std       0.617755     1.030798     0.620660     0.500070  \n",
       "min       0.000000     0.000000     0.000000     0.000000  \n",
       "25%       1.000000     0.000000     2.000000     0.000000  \n",
       "50%       1.000000     0.000000     2.000000     1.000000  \n",
       "75%       2.000000     1.000000     3.000000     1.000000  \n",
       "max       2.000000     4.000000     3.000000     1.000000  "
      ]
     },
     "execution_count": 22,
     "metadata": {},
     "output_type": "execute_result"
    }
   ],
   "source": [
    "heart_disease.describe()"
   ]
  },
  {
   "cell_type": "code",
   "execution_count": 23,
   "id": "cb9d5eec",
   "metadata": {
    "execution": {
     "iopub.execute_input": "2023-08-09T03:36:38.770406Z",
     "iopub.status.busy": "2023-08-09T03:36:38.769981Z",
     "iopub.status.idle": "2023-08-09T03:36:38.777464Z",
     "shell.execute_reply": "2023-08-09T03:36:38.776098Z"
    },
    "papermill": {
     "duration": 0.030571,
     "end_time": "2023-08-09T03:36:38.779467",
     "exception": false,
     "start_time": "2023-08-09T03:36:38.748896",
     "status": "completed"
    },
    "tags": []
   },
   "outputs": [
    {
     "data": {
      "text/plain": [
       "1    526\n",
       "0    499\n",
       "Name: target, dtype: int64"
      ]
     },
     "execution_count": 23,
     "metadata": {},
     "output_type": "execute_result"
    }
   ],
   "source": [
    "heart_disease['target'].value_counts()"
   ]
  },
  {
   "cell_type": "markdown",
   "id": "73b27d85",
   "metadata": {
    "papermill": {
     "duration": 0.019039,
     "end_time": "2023-08-09T03:36:38.817921",
     "exception": false,
     "start_time": "2023-08-09T03:36:38.798882",
     "status": "completed"
    },
    "tags": []
   },
   "source": [
    "### Periksa total data duplikat dari dataset"
   ]
  },
  {
   "cell_type": "code",
   "execution_count": 24,
   "id": "50b3815e",
   "metadata": {
    "execution": {
     "iopub.execute_input": "2023-08-09T03:36:38.858311Z",
     "iopub.status.busy": "2023-08-09T03:36:38.857822Z",
     "iopub.status.idle": "2023-08-09T03:36:38.865592Z",
     "shell.execute_reply": "2023-08-09T03:36:38.864567Z"
    },
    "papermill": {
     "duration": 0.03036,
     "end_time": "2023-08-09T03:36:38.867396",
     "exception": false,
     "start_time": "2023-08-09T03:36:38.837036",
     "status": "completed"
    },
    "tags": []
   },
   "outputs": [
    {
     "data": {
      "text/plain": [
       "723"
      ]
     },
     "execution_count": 24,
     "metadata": {},
     "output_type": "execute_result"
    }
   ],
   "source": [
    "heart_disease.duplicated().sum()"
   ]
  },
  {
   "cell_type": "markdown",
   "id": "353883fd",
   "metadata": {
    "papermill": {
     "duration": 0.020403,
     "end_time": "2023-08-09T03:36:38.907917",
     "exception": false,
     "start_time": "2023-08-09T03:36:38.887514",
     "status": "completed"
    },
    "tags": []
   },
   "source": [
    "### Hapus data duplikat dari dataset"
   ]
  },
  {
   "cell_type": "code",
   "execution_count": 25,
   "id": "7822f513",
   "metadata": {
    "execution": {
     "iopub.execute_input": "2023-08-09T03:36:38.951196Z",
     "iopub.status.busy": "2023-08-09T03:36:38.950583Z",
     "iopub.status.idle": "2023-08-09T03:36:38.969160Z",
     "shell.execute_reply": "2023-08-09T03:36:38.967611Z"
    },
    "papermill": {
     "duration": 0.043379,
     "end_time": "2023-08-09T03:36:38.971294",
     "exception": false,
     "start_time": "2023-08-09T03:36:38.927915",
     "status": "completed"
    },
    "tags": []
   },
   "outputs": [
    {
     "data": {
      "text/html": [
       "<div>\n",
       "<style scoped>\n",
       "    .dataframe tbody tr th:only-of-type {\n",
       "        vertical-align: middle;\n",
       "    }\n",
       "\n",
       "    .dataframe tbody tr th {\n",
       "        vertical-align: top;\n",
       "    }\n",
       "\n",
       "    .dataframe thead th {\n",
       "        text-align: right;\n",
       "    }\n",
       "</style>\n",
       "<table border=\"1\" class=\"dataframe\">\n",
       "  <thead>\n",
       "    <tr style=\"text-align: right;\">\n",
       "      <th></th>\n",
       "      <th>age</th>\n",
       "      <th>sex</th>\n",
       "      <th>chest_pain</th>\n",
       "      <th>blood_pressure</th>\n",
       "      <th>cholestrol</th>\n",
       "      <th>blood_sugar</th>\n",
       "      <th>restecg</th>\n",
       "      <th>thalach</th>\n",
       "      <th>exang</th>\n",
       "      <th>oldpeak</th>\n",
       "      <th>slope</th>\n",
       "      <th>vessels</th>\n",
       "      <th>thal</th>\n",
       "      <th>target</th>\n",
       "    </tr>\n",
       "  </thead>\n",
       "  <tbody>\n",
       "    <tr>\n",
       "      <th>0</th>\n",
       "      <td>52</td>\n",
       "      <td>1</td>\n",
       "      <td>0</td>\n",
       "      <td>125</td>\n",
       "      <td>212</td>\n",
       "      <td>0</td>\n",
       "      <td>1</td>\n",
       "      <td>168</td>\n",
       "      <td>0</td>\n",
       "      <td>1.0</td>\n",
       "      <td>2</td>\n",
       "      <td>2</td>\n",
       "      <td>3</td>\n",
       "      <td>0</td>\n",
       "    </tr>\n",
       "    <tr>\n",
       "      <th>1</th>\n",
       "      <td>53</td>\n",
       "      <td>1</td>\n",
       "      <td>0</td>\n",
       "      <td>140</td>\n",
       "      <td>203</td>\n",
       "      <td>1</td>\n",
       "      <td>0</td>\n",
       "      <td>155</td>\n",
       "      <td>1</td>\n",
       "      <td>3.1</td>\n",
       "      <td>0</td>\n",
       "      <td>0</td>\n",
       "      <td>3</td>\n",
       "      <td>0</td>\n",
       "    </tr>\n",
       "    <tr>\n",
       "      <th>2</th>\n",
       "      <td>70</td>\n",
       "      <td>1</td>\n",
       "      <td>0</td>\n",
       "      <td>145</td>\n",
       "      <td>174</td>\n",
       "      <td>0</td>\n",
       "      <td>1</td>\n",
       "      <td>125</td>\n",
       "      <td>1</td>\n",
       "      <td>2.6</td>\n",
       "      <td>0</td>\n",
       "      <td>0</td>\n",
       "      <td>3</td>\n",
       "      <td>0</td>\n",
       "    </tr>\n",
       "    <tr>\n",
       "      <th>3</th>\n",
       "      <td>61</td>\n",
       "      <td>1</td>\n",
       "      <td>0</td>\n",
       "      <td>148</td>\n",
       "      <td>203</td>\n",
       "      <td>0</td>\n",
       "      <td>1</td>\n",
       "      <td>161</td>\n",
       "      <td>0</td>\n",
       "      <td>0.0</td>\n",
       "      <td>2</td>\n",
       "      <td>1</td>\n",
       "      <td>3</td>\n",
       "      <td>0</td>\n",
       "    </tr>\n",
       "    <tr>\n",
       "      <th>4</th>\n",
       "      <td>62</td>\n",
       "      <td>0</td>\n",
       "      <td>0</td>\n",
       "      <td>138</td>\n",
       "      <td>294</td>\n",
       "      <td>1</td>\n",
       "      <td>1</td>\n",
       "      <td>106</td>\n",
       "      <td>0</td>\n",
       "      <td>1.9</td>\n",
       "      <td>1</td>\n",
       "      <td>3</td>\n",
       "      <td>2</td>\n",
       "      <td>0</td>\n",
       "    </tr>\n",
       "    <tr>\n",
       "      <th>...</th>\n",
       "      <td>...</td>\n",
       "      <td>...</td>\n",
       "      <td>...</td>\n",
       "      <td>...</td>\n",
       "      <td>...</td>\n",
       "      <td>...</td>\n",
       "      <td>...</td>\n",
       "      <td>...</td>\n",
       "      <td>...</td>\n",
       "      <td>...</td>\n",
       "      <td>...</td>\n",
       "      <td>...</td>\n",
       "      <td>...</td>\n",
       "      <td>...</td>\n",
       "    </tr>\n",
       "    <tr>\n",
       "      <th>723</th>\n",
       "      <td>68</td>\n",
       "      <td>0</td>\n",
       "      <td>2</td>\n",
       "      <td>120</td>\n",
       "      <td>211</td>\n",
       "      <td>0</td>\n",
       "      <td>0</td>\n",
       "      <td>115</td>\n",
       "      <td>0</td>\n",
       "      <td>1.5</td>\n",
       "      <td>1</td>\n",
       "      <td>0</td>\n",
       "      <td>2</td>\n",
       "      <td>1</td>\n",
       "    </tr>\n",
       "    <tr>\n",
       "      <th>733</th>\n",
       "      <td>44</td>\n",
       "      <td>0</td>\n",
       "      <td>2</td>\n",
       "      <td>108</td>\n",
       "      <td>141</td>\n",
       "      <td>0</td>\n",
       "      <td>1</td>\n",
       "      <td>175</td>\n",
       "      <td>0</td>\n",
       "      <td>0.6</td>\n",
       "      <td>1</td>\n",
       "      <td>0</td>\n",
       "      <td>2</td>\n",
       "      <td>1</td>\n",
       "    </tr>\n",
       "    <tr>\n",
       "      <th>739</th>\n",
       "      <td>52</td>\n",
       "      <td>1</td>\n",
       "      <td>0</td>\n",
       "      <td>128</td>\n",
       "      <td>255</td>\n",
       "      <td>0</td>\n",
       "      <td>1</td>\n",
       "      <td>161</td>\n",
       "      <td>1</td>\n",
       "      <td>0.0</td>\n",
       "      <td>2</td>\n",
       "      <td>1</td>\n",
       "      <td>3</td>\n",
       "      <td>0</td>\n",
       "    </tr>\n",
       "    <tr>\n",
       "      <th>843</th>\n",
       "      <td>59</td>\n",
       "      <td>1</td>\n",
       "      <td>3</td>\n",
       "      <td>160</td>\n",
       "      <td>273</td>\n",
       "      <td>0</td>\n",
       "      <td>0</td>\n",
       "      <td>125</td>\n",
       "      <td>0</td>\n",
       "      <td>0.0</td>\n",
       "      <td>2</td>\n",
       "      <td>0</td>\n",
       "      <td>2</td>\n",
       "      <td>0</td>\n",
       "    </tr>\n",
       "    <tr>\n",
       "      <th>878</th>\n",
       "      <td>54</td>\n",
       "      <td>1</td>\n",
       "      <td>0</td>\n",
       "      <td>120</td>\n",
       "      <td>188</td>\n",
       "      <td>0</td>\n",
       "      <td>1</td>\n",
       "      <td>113</td>\n",
       "      <td>0</td>\n",
       "      <td>1.4</td>\n",
       "      <td>1</td>\n",
       "      <td>1</td>\n",
       "      <td>3</td>\n",
       "      <td>0</td>\n",
       "    </tr>\n",
       "  </tbody>\n",
       "</table>\n",
       "<p>302 rows × 14 columns</p>\n",
       "</div>"
      ],
      "text/plain": [
       "     age  sex  chest_pain  blood_pressure  cholestrol  blood_sugar  restecg  \\\n",
       "0     52    1           0             125         212            0        1   \n",
       "1     53    1           0             140         203            1        0   \n",
       "2     70    1           0             145         174            0        1   \n",
       "3     61    1           0             148         203            0        1   \n",
       "4     62    0           0             138         294            1        1   \n",
       "..   ...  ...         ...             ...         ...          ...      ...   \n",
       "723   68    0           2             120         211            0        0   \n",
       "733   44    0           2             108         141            0        1   \n",
       "739   52    1           0             128         255            0        1   \n",
       "843   59    1           3             160         273            0        0   \n",
       "878   54    1           0             120         188            0        1   \n",
       "\n",
       "     thalach  exang  oldpeak  slope  vessels  thal  target  \n",
       "0        168      0      1.0      2        2     3       0  \n",
       "1        155      1      3.1      0        0     3       0  \n",
       "2        125      1      2.6      0        0     3       0  \n",
       "3        161      0      0.0      2        1     3       0  \n",
       "4        106      0      1.9      1        3     2       0  \n",
       "..       ...    ...      ...    ...      ...   ...     ...  \n",
       "723      115      0      1.5      1        0     2       1  \n",
       "733      175      0      0.6      1        0     2       1  \n",
       "739      161      1      0.0      2        1     3       0  \n",
       "843      125      0      0.0      2        0     2       0  \n",
       "878      113      0      1.4      1        1     3       0  \n",
       "\n",
       "[302 rows x 14 columns]"
      ]
     },
     "execution_count": 25,
     "metadata": {},
     "output_type": "execute_result"
    }
   ],
   "source": [
    "heart_disease = heart_disease.drop_duplicates()\n",
    "heart_disease"
   ]
  },
  {
   "cell_type": "code",
   "execution_count": 26,
   "id": "32a2407c",
   "metadata": {
    "execution": {
     "iopub.execute_input": "2023-08-09T03:36:39.013200Z",
     "iopub.status.busy": "2023-08-09T03:36:39.012808Z",
     "iopub.status.idle": "2023-08-09T03:36:39.020833Z",
     "shell.execute_reply": "2023-08-09T03:36:39.019312Z"
    },
    "papermill": {
     "duration": 0.031618,
     "end_time": "2023-08-09T03:36:39.022745",
     "exception": false,
     "start_time": "2023-08-09T03:36:38.991127",
     "status": "completed"
    },
    "tags": []
   },
   "outputs": [],
   "source": [
    "#Cari categorical data dan numerical datanya\n",
    "categorical_data = []\n",
    "numerical_data = []\n",
    "for column in heart_disease.columns:\n",
    "    if (len(heart_disease[column].unique())) <= 10:\n",
    "        categorical_data.append(column)\n",
    "    else:\n",
    "        numerical_data.append(column)"
   ]
  },
  {
   "cell_type": "code",
   "execution_count": 27,
   "id": "840836d7",
   "metadata": {
    "execution": {
     "iopub.execute_input": "2023-08-09T03:36:39.065898Z",
     "iopub.status.busy": "2023-08-09T03:36:39.065542Z",
     "iopub.status.idle": "2023-08-09T03:36:39.070819Z",
     "shell.execute_reply": "2023-08-09T03:36:39.069782Z"
    },
    "papermill": {
     "duration": 0.029218,
     "end_time": "2023-08-09T03:36:39.072747",
     "exception": false,
     "start_time": "2023-08-09T03:36:39.043529",
     "status": "completed"
    },
    "tags": []
   },
   "outputs": [
    {
     "name": "stdout",
     "output_type": "stream",
     "text": [
      "['sex', 'chest_pain', 'blood_sugar', 'restecg', 'exang', 'slope', 'vessels', 'thal', 'target']\n"
     ]
    }
   ],
   "source": [
    "print(categorical_data)"
   ]
  },
  {
   "cell_type": "code",
   "execution_count": 28,
   "id": "48964146",
   "metadata": {
    "execution": {
     "iopub.execute_input": "2023-08-09T03:36:39.114984Z",
     "iopub.status.busy": "2023-08-09T03:36:39.113949Z",
     "iopub.status.idle": "2023-08-09T03:36:39.119332Z",
     "shell.execute_reply": "2023-08-09T03:36:39.118352Z"
    },
    "papermill": {
     "duration": 0.028368,
     "end_time": "2023-08-09T03:36:39.121266",
     "exception": false,
     "start_time": "2023-08-09T03:36:39.092898",
     "status": "completed"
    },
    "tags": []
   },
   "outputs": [
    {
     "name": "stdout",
     "output_type": "stream",
     "text": [
      "['age', 'blood_pressure', 'cholestrol', 'thalach', 'oldpeak']\n"
     ]
    }
   ],
   "source": [
    "print(numerical_data)"
   ]
  },
  {
   "cell_type": "markdown",
   "id": "0d5640e7",
   "metadata": {
    "papermill": {
     "duration": 0.019806,
     "end_time": "2023-08-09T03:36:39.161295",
     "exception": false,
     "start_time": "2023-08-09T03:36:39.141489",
     "status": "completed"
    },
    "tags": []
   },
   "source": [
    "# Preprocessing for Modelling"
   ]
  },
  {
   "cell_type": "code",
   "execution_count": 29,
   "id": "9e4eb0f6",
   "metadata": {
    "execution": {
     "iopub.execute_input": "2023-08-09T03:36:39.205234Z",
     "iopub.status.busy": "2023-08-09T03:36:39.204683Z",
     "iopub.status.idle": "2023-08-09T03:36:39.405291Z",
     "shell.execute_reply": "2023-08-09T03:36:39.403834Z"
    },
    "papermill": {
     "duration": 0.226114,
     "end_time": "2023-08-09T03:36:39.407856",
     "exception": false,
     "start_time": "2023-08-09T03:36:39.181742",
     "status": "completed"
    },
    "tags": []
   },
   "outputs": [],
   "source": [
    "from sklearn.model_selection import train_test_split   # To split train val test set\n",
    "from sklearn.pipeline import Pipeline      # To create pipeline for data transformation\n",
    "from sklearn.preprocessing import StandardScaler,MinMaxScaler     # To standardize the data\n",
    "from sklearn.metrics import accuracy_score    # To calculate the accuracy"
   ]
  },
  {
   "cell_type": "markdown",
   "id": "15bbce2e",
   "metadata": {
    "papermill": {
     "duration": 0.019527,
     "end_time": "2023-08-09T03:36:39.447765",
     "exception": false,
     "start_time": "2023-08-09T03:36:39.428238",
     "status": "completed"
    },
    "tags": []
   },
   "source": [
    "### One Hot Encoder"
   ]
  },
  {
   "cell_type": "code",
   "execution_count": 30,
   "id": "bb768f64",
   "metadata": {
    "execution": {
     "iopub.execute_input": "2023-08-09T03:36:39.489462Z",
     "iopub.status.busy": "2023-08-09T03:36:39.489125Z",
     "iopub.status.idle": "2023-08-09T03:36:39.519506Z",
     "shell.execute_reply": "2023-08-09T03:36:39.517974Z"
    },
    "papermill": {
     "duration": 0.05379,
     "end_time": "2023-08-09T03:36:39.521643",
     "exception": false,
     "start_time": "2023-08-09T03:36:39.467853",
     "status": "completed"
    },
    "tags": []
   },
   "outputs": [
    {
     "data": {
      "text/html": [
       "<div>\n",
       "<style scoped>\n",
       "    .dataframe tbody tr th:only-of-type {\n",
       "        vertical-align: middle;\n",
       "    }\n",
       "\n",
       "    .dataframe tbody tr th {\n",
       "        vertical-align: top;\n",
       "    }\n",
       "\n",
       "    .dataframe thead th {\n",
       "        text-align: right;\n",
       "    }\n",
       "</style>\n",
       "<table border=\"1\" class=\"dataframe\">\n",
       "  <thead>\n",
       "    <tr style=\"text-align: right;\">\n",
       "      <th></th>\n",
       "      <th>age</th>\n",
       "      <th>blood_pressure</th>\n",
       "      <th>cholestrol</th>\n",
       "      <th>thalach</th>\n",
       "      <th>oldpeak</th>\n",
       "      <th>target</th>\n",
       "      <th>sex_0</th>\n",
       "      <th>sex_1</th>\n",
       "      <th>chest_pain_0</th>\n",
       "      <th>chest_pain_1</th>\n",
       "      <th>...</th>\n",
       "      <th>slope_2</th>\n",
       "      <th>vessels_0</th>\n",
       "      <th>vessels_1</th>\n",
       "      <th>vessels_2</th>\n",
       "      <th>vessels_3</th>\n",
       "      <th>vessels_4</th>\n",
       "      <th>thal_0</th>\n",
       "      <th>thal_1</th>\n",
       "      <th>thal_2</th>\n",
       "      <th>thal_3</th>\n",
       "    </tr>\n",
       "  </thead>\n",
       "  <tbody>\n",
       "    <tr>\n",
       "      <th>0</th>\n",
       "      <td>52</td>\n",
       "      <td>125</td>\n",
       "      <td>212</td>\n",
       "      <td>168</td>\n",
       "      <td>1.0</td>\n",
       "      <td>0</td>\n",
       "      <td>0</td>\n",
       "      <td>1</td>\n",
       "      <td>1</td>\n",
       "      <td>0</td>\n",
       "      <td>...</td>\n",
       "      <td>1</td>\n",
       "      <td>0</td>\n",
       "      <td>0</td>\n",
       "      <td>1</td>\n",
       "      <td>0</td>\n",
       "      <td>0</td>\n",
       "      <td>0</td>\n",
       "      <td>0</td>\n",
       "      <td>0</td>\n",
       "      <td>1</td>\n",
       "    </tr>\n",
       "    <tr>\n",
       "      <th>1</th>\n",
       "      <td>53</td>\n",
       "      <td>140</td>\n",
       "      <td>203</td>\n",
       "      <td>155</td>\n",
       "      <td>3.1</td>\n",
       "      <td>0</td>\n",
       "      <td>0</td>\n",
       "      <td>1</td>\n",
       "      <td>1</td>\n",
       "      <td>0</td>\n",
       "      <td>...</td>\n",
       "      <td>0</td>\n",
       "      <td>1</td>\n",
       "      <td>0</td>\n",
       "      <td>0</td>\n",
       "      <td>0</td>\n",
       "      <td>0</td>\n",
       "      <td>0</td>\n",
       "      <td>0</td>\n",
       "      <td>0</td>\n",
       "      <td>1</td>\n",
       "    </tr>\n",
       "    <tr>\n",
       "      <th>2</th>\n",
       "      <td>70</td>\n",
       "      <td>145</td>\n",
       "      <td>174</td>\n",
       "      <td>125</td>\n",
       "      <td>2.6</td>\n",
       "      <td>0</td>\n",
       "      <td>0</td>\n",
       "      <td>1</td>\n",
       "      <td>1</td>\n",
       "      <td>0</td>\n",
       "      <td>...</td>\n",
       "      <td>0</td>\n",
       "      <td>1</td>\n",
       "      <td>0</td>\n",
       "      <td>0</td>\n",
       "      <td>0</td>\n",
       "      <td>0</td>\n",
       "      <td>0</td>\n",
       "      <td>0</td>\n",
       "      <td>0</td>\n",
       "      <td>1</td>\n",
       "    </tr>\n",
       "    <tr>\n",
       "      <th>3</th>\n",
       "      <td>61</td>\n",
       "      <td>148</td>\n",
       "      <td>203</td>\n",
       "      <td>161</td>\n",
       "      <td>0.0</td>\n",
       "      <td>0</td>\n",
       "      <td>0</td>\n",
       "      <td>1</td>\n",
       "      <td>1</td>\n",
       "      <td>0</td>\n",
       "      <td>...</td>\n",
       "      <td>1</td>\n",
       "      <td>0</td>\n",
       "      <td>1</td>\n",
       "      <td>0</td>\n",
       "      <td>0</td>\n",
       "      <td>0</td>\n",
       "      <td>0</td>\n",
       "      <td>0</td>\n",
       "      <td>0</td>\n",
       "      <td>1</td>\n",
       "    </tr>\n",
       "    <tr>\n",
       "      <th>4</th>\n",
       "      <td>62</td>\n",
       "      <td>138</td>\n",
       "      <td>294</td>\n",
       "      <td>106</td>\n",
       "      <td>1.9</td>\n",
       "      <td>0</td>\n",
       "      <td>1</td>\n",
       "      <td>0</td>\n",
       "      <td>1</td>\n",
       "      <td>0</td>\n",
       "      <td>...</td>\n",
       "      <td>0</td>\n",
       "      <td>0</td>\n",
       "      <td>0</td>\n",
       "      <td>0</td>\n",
       "      <td>1</td>\n",
       "      <td>0</td>\n",
       "      <td>0</td>\n",
       "      <td>0</td>\n",
       "      <td>1</td>\n",
       "      <td>0</td>\n",
       "    </tr>\n",
       "    <tr>\n",
       "      <th>...</th>\n",
       "      <td>...</td>\n",
       "      <td>...</td>\n",
       "      <td>...</td>\n",
       "      <td>...</td>\n",
       "      <td>...</td>\n",
       "      <td>...</td>\n",
       "      <td>...</td>\n",
       "      <td>...</td>\n",
       "      <td>...</td>\n",
       "      <td>...</td>\n",
       "      <td>...</td>\n",
       "      <td>...</td>\n",
       "      <td>...</td>\n",
       "      <td>...</td>\n",
       "      <td>...</td>\n",
       "      <td>...</td>\n",
       "      <td>...</td>\n",
       "      <td>...</td>\n",
       "      <td>...</td>\n",
       "      <td>...</td>\n",
       "      <td>...</td>\n",
       "    </tr>\n",
       "    <tr>\n",
       "      <th>723</th>\n",
       "      <td>68</td>\n",
       "      <td>120</td>\n",
       "      <td>211</td>\n",
       "      <td>115</td>\n",
       "      <td>1.5</td>\n",
       "      <td>1</td>\n",
       "      <td>1</td>\n",
       "      <td>0</td>\n",
       "      <td>0</td>\n",
       "      <td>0</td>\n",
       "      <td>...</td>\n",
       "      <td>0</td>\n",
       "      <td>1</td>\n",
       "      <td>0</td>\n",
       "      <td>0</td>\n",
       "      <td>0</td>\n",
       "      <td>0</td>\n",
       "      <td>0</td>\n",
       "      <td>0</td>\n",
       "      <td>1</td>\n",
       "      <td>0</td>\n",
       "    </tr>\n",
       "    <tr>\n",
       "      <th>733</th>\n",
       "      <td>44</td>\n",
       "      <td>108</td>\n",
       "      <td>141</td>\n",
       "      <td>175</td>\n",
       "      <td>0.6</td>\n",
       "      <td>1</td>\n",
       "      <td>1</td>\n",
       "      <td>0</td>\n",
       "      <td>0</td>\n",
       "      <td>0</td>\n",
       "      <td>...</td>\n",
       "      <td>0</td>\n",
       "      <td>1</td>\n",
       "      <td>0</td>\n",
       "      <td>0</td>\n",
       "      <td>0</td>\n",
       "      <td>0</td>\n",
       "      <td>0</td>\n",
       "      <td>0</td>\n",
       "      <td>1</td>\n",
       "      <td>0</td>\n",
       "    </tr>\n",
       "    <tr>\n",
       "      <th>739</th>\n",
       "      <td>52</td>\n",
       "      <td>128</td>\n",
       "      <td>255</td>\n",
       "      <td>161</td>\n",
       "      <td>0.0</td>\n",
       "      <td>0</td>\n",
       "      <td>0</td>\n",
       "      <td>1</td>\n",
       "      <td>1</td>\n",
       "      <td>0</td>\n",
       "      <td>...</td>\n",
       "      <td>1</td>\n",
       "      <td>0</td>\n",
       "      <td>1</td>\n",
       "      <td>0</td>\n",
       "      <td>0</td>\n",
       "      <td>0</td>\n",
       "      <td>0</td>\n",
       "      <td>0</td>\n",
       "      <td>0</td>\n",
       "      <td>1</td>\n",
       "    </tr>\n",
       "    <tr>\n",
       "      <th>843</th>\n",
       "      <td>59</td>\n",
       "      <td>160</td>\n",
       "      <td>273</td>\n",
       "      <td>125</td>\n",
       "      <td>0.0</td>\n",
       "      <td>0</td>\n",
       "      <td>0</td>\n",
       "      <td>1</td>\n",
       "      <td>0</td>\n",
       "      <td>0</td>\n",
       "      <td>...</td>\n",
       "      <td>1</td>\n",
       "      <td>1</td>\n",
       "      <td>0</td>\n",
       "      <td>0</td>\n",
       "      <td>0</td>\n",
       "      <td>0</td>\n",
       "      <td>0</td>\n",
       "      <td>0</td>\n",
       "      <td>1</td>\n",
       "      <td>0</td>\n",
       "    </tr>\n",
       "    <tr>\n",
       "      <th>878</th>\n",
       "      <td>54</td>\n",
       "      <td>120</td>\n",
       "      <td>188</td>\n",
       "      <td>113</td>\n",
       "      <td>1.4</td>\n",
       "      <td>0</td>\n",
       "      <td>0</td>\n",
       "      <td>1</td>\n",
       "      <td>1</td>\n",
       "      <td>0</td>\n",
       "      <td>...</td>\n",
       "      <td>0</td>\n",
       "      <td>0</td>\n",
       "      <td>1</td>\n",
       "      <td>0</td>\n",
       "      <td>0</td>\n",
       "      <td>0</td>\n",
       "      <td>0</td>\n",
       "      <td>0</td>\n",
       "      <td>0</td>\n",
       "      <td>1</td>\n",
       "    </tr>\n",
       "  </tbody>\n",
       "</table>\n",
       "<p>302 rows × 31 columns</p>\n",
       "</div>"
      ],
      "text/plain": [
       "     age  blood_pressure  cholestrol  thalach  oldpeak  target  sex_0  sex_1  \\\n",
       "0     52             125         212      168      1.0       0      0      1   \n",
       "1     53             140         203      155      3.1       0      0      1   \n",
       "2     70             145         174      125      2.6       0      0      1   \n",
       "3     61             148         203      161      0.0       0      0      1   \n",
       "4     62             138         294      106      1.9       0      1      0   \n",
       "..   ...             ...         ...      ...      ...     ...    ...    ...   \n",
       "723   68             120         211      115      1.5       1      1      0   \n",
       "733   44             108         141      175      0.6       1      1      0   \n",
       "739   52             128         255      161      0.0       0      0      1   \n",
       "843   59             160         273      125      0.0       0      0      1   \n",
       "878   54             120         188      113      1.4       0      0      1   \n",
       "\n",
       "     chest_pain_0  chest_pain_1  ...  slope_2  vessels_0  vessels_1  \\\n",
       "0               1             0  ...        1          0          0   \n",
       "1               1             0  ...        0          1          0   \n",
       "2               1             0  ...        0          1          0   \n",
       "3               1             0  ...        1          0          1   \n",
       "4               1             0  ...        0          0          0   \n",
       "..            ...           ...  ...      ...        ...        ...   \n",
       "723             0             0  ...        0          1          0   \n",
       "733             0             0  ...        0          1          0   \n",
       "739             1             0  ...        1          0          1   \n",
       "843             0             0  ...        1          1          0   \n",
       "878             1             0  ...        0          0          1   \n",
       "\n",
       "     vessels_2  vessels_3  vessels_4  thal_0  thal_1  thal_2  thal_3  \n",
       "0            1          0          0       0       0       0       1  \n",
       "1            0          0          0       0       0       0       1  \n",
       "2            0          0          0       0       0       0       1  \n",
       "3            0          0          0       0       0       0       1  \n",
       "4            0          1          0       0       0       1       0  \n",
       "..         ...        ...        ...     ...     ...     ...     ...  \n",
       "723          0          0          0       0       0       1       0  \n",
       "733          0          0          0       0       0       1       0  \n",
       "739          0          0          0       0       0       0       1  \n",
       "843          0          0          0       0       0       1       0  \n",
       "878          0          0          0       0       0       0       1  \n",
       "\n",
       "[302 rows x 31 columns]"
      ]
     },
     "execution_count": 30,
     "metadata": {},
     "output_type": "execute_result"
    }
   ],
   "source": [
    "categorical_data.remove('target')\n",
    "dataset = pd.get_dummies(heart_disease, columns=categorical_data)\n",
    "dataset"
   ]
  },
  {
   "cell_type": "markdown",
   "id": "ebe66038",
   "metadata": {
    "papermill": {
     "duration": 0.02046,
     "end_time": "2023-08-09T03:36:39.562257",
     "exception": false,
     "start_time": "2023-08-09T03:36:39.541797",
     "status": "completed"
    },
    "tags": []
   },
   "source": [
    "### Normalization Data\n",
    "\n",
    "Digunakan agar rentang nilai dari numerical_data tidak jauh dengan target"
   ]
  },
  {
   "cell_type": "code",
   "execution_count": 31,
   "id": "73268ae3",
   "metadata": {
    "execution": {
     "iopub.execute_input": "2023-08-09T03:36:39.603836Z",
     "iopub.status.busy": "2023-08-09T03:36:39.603429Z",
     "iopub.status.idle": "2023-08-09T03:36:39.633351Z",
     "shell.execute_reply": "2023-08-09T03:36:39.632227Z"
    },
    "papermill": {
     "duration": 0.053022,
     "end_time": "2023-08-09T03:36:39.635375",
     "exception": false,
     "start_time": "2023-08-09T03:36:39.582353",
     "status": "completed"
    },
    "tags": []
   },
   "outputs": [
    {
     "data": {
      "text/html": [
       "<div>\n",
       "<style scoped>\n",
       "    .dataframe tbody tr th:only-of-type {\n",
       "        vertical-align: middle;\n",
       "    }\n",
       "\n",
       "    .dataframe tbody tr th {\n",
       "        vertical-align: top;\n",
       "    }\n",
       "\n",
       "    .dataframe thead th {\n",
       "        text-align: right;\n",
       "    }\n",
       "</style>\n",
       "<table border=\"1\" class=\"dataframe\">\n",
       "  <thead>\n",
       "    <tr style=\"text-align: right;\">\n",
       "      <th></th>\n",
       "      <th>age</th>\n",
       "      <th>blood_pressure</th>\n",
       "      <th>cholestrol</th>\n",
       "      <th>thalach</th>\n",
       "      <th>oldpeak</th>\n",
       "      <th>target</th>\n",
       "      <th>sex_0</th>\n",
       "      <th>sex_1</th>\n",
       "      <th>chest_pain_0</th>\n",
       "      <th>chest_pain_1</th>\n",
       "      <th>...</th>\n",
       "      <th>slope_2</th>\n",
       "      <th>vessels_0</th>\n",
       "      <th>vessels_1</th>\n",
       "      <th>vessels_2</th>\n",
       "      <th>vessels_3</th>\n",
       "      <th>vessels_4</th>\n",
       "      <th>thal_0</th>\n",
       "      <th>thal_1</th>\n",
       "      <th>thal_2</th>\n",
       "      <th>thal_3</th>\n",
       "    </tr>\n",
       "  </thead>\n",
       "  <tbody>\n",
       "    <tr>\n",
       "      <th>0</th>\n",
       "      <td>-0.267966</td>\n",
       "      <td>-0.376556</td>\n",
       "      <td>-0.667728</td>\n",
       "      <td>0.806035</td>\n",
       "      <td>-0.037124</td>\n",
       "      <td>0</td>\n",
       "      <td>0</td>\n",
       "      <td>1</td>\n",
       "      <td>1</td>\n",
       "      <td>0</td>\n",
       "      <td>...</td>\n",
       "      <td>1</td>\n",
       "      <td>0</td>\n",
       "      <td>0</td>\n",
       "      <td>1</td>\n",
       "      <td>0</td>\n",
       "      <td>0</td>\n",
       "      <td>0</td>\n",
       "      <td>0</td>\n",
       "      <td>0</td>\n",
       "      <td>1</td>\n",
       "    </tr>\n",
       "    <tr>\n",
       "      <th>1</th>\n",
       "      <td>-0.157260</td>\n",
       "      <td>0.478910</td>\n",
       "      <td>-0.841918</td>\n",
       "      <td>0.237495</td>\n",
       "      <td>1.773958</td>\n",
       "      <td>0</td>\n",
       "      <td>0</td>\n",
       "      <td>1</td>\n",
       "      <td>1</td>\n",
       "      <td>0</td>\n",
       "      <td>...</td>\n",
       "      <td>0</td>\n",
       "      <td>1</td>\n",
       "      <td>0</td>\n",
       "      <td>0</td>\n",
       "      <td>0</td>\n",
       "      <td>0</td>\n",
       "      <td>0</td>\n",
       "      <td>0</td>\n",
       "      <td>0</td>\n",
       "      <td>1</td>\n",
       "    </tr>\n",
       "    <tr>\n",
       "      <th>2</th>\n",
       "      <td>1.724733</td>\n",
       "      <td>0.764066</td>\n",
       "      <td>-1.403197</td>\n",
       "      <td>-1.074521</td>\n",
       "      <td>1.342748</td>\n",
       "      <td>0</td>\n",
       "      <td>0</td>\n",
       "      <td>1</td>\n",
       "      <td>1</td>\n",
       "      <td>0</td>\n",
       "      <td>...</td>\n",
       "      <td>0</td>\n",
       "      <td>1</td>\n",
       "      <td>0</td>\n",
       "      <td>0</td>\n",
       "      <td>0</td>\n",
       "      <td>0</td>\n",
       "      <td>0</td>\n",
       "      <td>0</td>\n",
       "      <td>0</td>\n",
       "      <td>1</td>\n",
       "    </tr>\n",
       "    <tr>\n",
       "      <th>3</th>\n",
       "      <td>0.728383</td>\n",
       "      <td>0.935159</td>\n",
       "      <td>-0.841918</td>\n",
       "      <td>0.499898</td>\n",
       "      <td>-0.899544</td>\n",
       "      <td>0</td>\n",
       "      <td>0</td>\n",
       "      <td>1</td>\n",
       "      <td>1</td>\n",
       "      <td>0</td>\n",
       "      <td>...</td>\n",
       "      <td>1</td>\n",
       "      <td>0</td>\n",
       "      <td>1</td>\n",
       "      <td>0</td>\n",
       "      <td>0</td>\n",
       "      <td>0</td>\n",
       "      <td>0</td>\n",
       "      <td>0</td>\n",
       "      <td>0</td>\n",
       "      <td>1</td>\n",
       "    </tr>\n",
       "    <tr>\n",
       "      <th>4</th>\n",
       "      <td>0.839089</td>\n",
       "      <td>0.364848</td>\n",
       "      <td>0.919336</td>\n",
       "      <td>-1.905464</td>\n",
       "      <td>0.739054</td>\n",
       "      <td>0</td>\n",
       "      <td>1</td>\n",
       "      <td>0</td>\n",
       "      <td>1</td>\n",
       "      <td>0</td>\n",
       "      <td>...</td>\n",
       "      <td>0</td>\n",
       "      <td>0</td>\n",
       "      <td>0</td>\n",
       "      <td>0</td>\n",
       "      <td>1</td>\n",
       "      <td>0</td>\n",
       "      <td>0</td>\n",
       "      <td>0</td>\n",
       "      <td>1</td>\n",
       "      <td>0</td>\n",
       "    </tr>\n",
       "    <tr>\n",
       "      <th>...</th>\n",
       "      <td>...</td>\n",
       "      <td>...</td>\n",
       "      <td>...</td>\n",
       "      <td>...</td>\n",
       "      <td>...</td>\n",
       "      <td>...</td>\n",
       "      <td>...</td>\n",
       "      <td>...</td>\n",
       "      <td>...</td>\n",
       "      <td>...</td>\n",
       "      <td>...</td>\n",
       "      <td>...</td>\n",
       "      <td>...</td>\n",
       "      <td>...</td>\n",
       "      <td>...</td>\n",
       "      <td>...</td>\n",
       "      <td>...</td>\n",
       "      <td>...</td>\n",
       "      <td>...</td>\n",
       "      <td>...</td>\n",
       "      <td>...</td>\n",
       "    </tr>\n",
       "    <tr>\n",
       "      <th>723</th>\n",
       "      <td>1.503322</td>\n",
       "      <td>-0.661712</td>\n",
       "      <td>-0.687083</td>\n",
       "      <td>-1.511859</td>\n",
       "      <td>0.394086</td>\n",
       "      <td>1</td>\n",
       "      <td>1</td>\n",
       "      <td>0</td>\n",
       "      <td>0</td>\n",
       "      <td>0</td>\n",
       "      <td>...</td>\n",
       "      <td>0</td>\n",
       "      <td>1</td>\n",
       "      <td>0</td>\n",
       "      <td>0</td>\n",
       "      <td>0</td>\n",
       "      <td>0</td>\n",
       "      <td>0</td>\n",
       "      <td>0</td>\n",
       "      <td>1</td>\n",
       "      <td>0</td>\n",
       "    </tr>\n",
       "    <tr>\n",
       "      <th>733</th>\n",
       "      <td>-1.153610</td>\n",
       "      <td>-1.346085</td>\n",
       "      <td>-2.041893</td>\n",
       "      <td>1.112172</td>\n",
       "      <td>-0.382092</td>\n",
       "      <td>1</td>\n",
       "      <td>1</td>\n",
       "      <td>0</td>\n",
       "      <td>0</td>\n",
       "      <td>0</td>\n",
       "      <td>...</td>\n",
       "      <td>0</td>\n",
       "      <td>1</td>\n",
       "      <td>0</td>\n",
       "      <td>0</td>\n",
       "      <td>0</td>\n",
       "      <td>0</td>\n",
       "      <td>0</td>\n",
       "      <td>0</td>\n",
       "      <td>1</td>\n",
       "      <td>0</td>\n",
       "    </tr>\n",
       "    <tr>\n",
       "      <th>739</th>\n",
       "      <td>-0.267966</td>\n",
       "      <td>-0.205463</td>\n",
       "      <td>0.164513</td>\n",
       "      <td>0.499898</td>\n",
       "      <td>-0.899544</td>\n",
       "      <td>0</td>\n",
       "      <td>0</td>\n",
       "      <td>1</td>\n",
       "      <td>1</td>\n",
       "      <td>0</td>\n",
       "      <td>...</td>\n",
       "      <td>1</td>\n",
       "      <td>0</td>\n",
       "      <td>1</td>\n",
       "      <td>0</td>\n",
       "      <td>0</td>\n",
       "      <td>0</td>\n",
       "      <td>0</td>\n",
       "      <td>0</td>\n",
       "      <td>0</td>\n",
       "      <td>1</td>\n",
       "    </tr>\n",
       "    <tr>\n",
       "      <th>843</th>\n",
       "      <td>0.506972</td>\n",
       "      <td>1.619532</td>\n",
       "      <td>0.512893</td>\n",
       "      <td>-1.074521</td>\n",
       "      <td>-0.899544</td>\n",
       "      <td>0</td>\n",
       "      <td>0</td>\n",
       "      <td>1</td>\n",
       "      <td>0</td>\n",
       "      <td>0</td>\n",
       "      <td>...</td>\n",
       "      <td>1</td>\n",
       "      <td>1</td>\n",
       "      <td>0</td>\n",
       "      <td>0</td>\n",
       "      <td>0</td>\n",
       "      <td>0</td>\n",
       "      <td>0</td>\n",
       "      <td>0</td>\n",
       "      <td>1</td>\n",
       "      <td>0</td>\n",
       "    </tr>\n",
       "    <tr>\n",
       "      <th>878</th>\n",
       "      <td>-0.046555</td>\n",
       "      <td>-0.661712</td>\n",
       "      <td>-1.132235</td>\n",
       "      <td>-1.599327</td>\n",
       "      <td>0.307844</td>\n",
       "      <td>0</td>\n",
       "      <td>0</td>\n",
       "      <td>1</td>\n",
       "      <td>1</td>\n",
       "      <td>0</td>\n",
       "      <td>...</td>\n",
       "      <td>0</td>\n",
       "      <td>0</td>\n",
       "      <td>1</td>\n",
       "      <td>0</td>\n",
       "      <td>0</td>\n",
       "      <td>0</td>\n",
       "      <td>0</td>\n",
       "      <td>0</td>\n",
       "      <td>0</td>\n",
       "      <td>1</td>\n",
       "    </tr>\n",
       "  </tbody>\n",
       "</table>\n",
       "<p>302 rows × 31 columns</p>\n",
       "</div>"
      ],
      "text/plain": [
       "          age  blood_pressure  cholestrol   thalach   oldpeak  target  sex_0  \\\n",
       "0   -0.267966       -0.376556   -0.667728  0.806035 -0.037124       0      0   \n",
       "1   -0.157260        0.478910   -0.841918  0.237495  1.773958       0      0   \n",
       "2    1.724733        0.764066   -1.403197 -1.074521  1.342748       0      0   \n",
       "3    0.728383        0.935159   -0.841918  0.499898 -0.899544       0      0   \n",
       "4    0.839089        0.364848    0.919336 -1.905464  0.739054       0      1   \n",
       "..        ...             ...         ...       ...       ...     ...    ...   \n",
       "723  1.503322       -0.661712   -0.687083 -1.511859  0.394086       1      1   \n",
       "733 -1.153610       -1.346085   -2.041893  1.112172 -0.382092       1      1   \n",
       "739 -0.267966       -0.205463    0.164513  0.499898 -0.899544       0      0   \n",
       "843  0.506972        1.619532    0.512893 -1.074521 -0.899544       0      0   \n",
       "878 -0.046555       -0.661712   -1.132235 -1.599327  0.307844       0      0   \n",
       "\n",
       "     sex_1  chest_pain_0  chest_pain_1  ...  slope_2  vessels_0  vessels_1  \\\n",
       "0        1             1             0  ...        1          0          0   \n",
       "1        1             1             0  ...        0          1          0   \n",
       "2        1             1             0  ...        0          1          0   \n",
       "3        1             1             0  ...        1          0          1   \n",
       "4        0             1             0  ...        0          0          0   \n",
       "..     ...           ...           ...  ...      ...        ...        ...   \n",
       "723      0             0             0  ...        0          1          0   \n",
       "733      0             0             0  ...        0          1          0   \n",
       "739      1             1             0  ...        1          0          1   \n",
       "843      1             0             0  ...        1          1          0   \n",
       "878      1             1             0  ...        0          0          1   \n",
       "\n",
       "     vessels_2  vessels_3  vessels_4  thal_0  thal_1  thal_2  thal_3  \n",
       "0            1          0          0       0       0       0       1  \n",
       "1            0          0          0       0       0       0       1  \n",
       "2            0          0          0       0       0       0       1  \n",
       "3            0          0          0       0       0       0       1  \n",
       "4            0          1          0       0       0       1       0  \n",
       "..         ...        ...        ...     ...     ...     ...     ...  \n",
       "723          0          0          0       0       0       1       0  \n",
       "733          0          0          0       0       0       1       0  \n",
       "739          0          0          0       0       0       0       1  \n",
       "843          0          0          0       0       0       1       0  \n",
       "878          0          0          0       0       0       0       1  \n",
       "\n",
       "[302 rows x 31 columns]"
      ]
     },
     "execution_count": 31,
     "metadata": {},
     "output_type": "execute_result"
    }
   ],
   "source": [
    "ss = StandardScaler()\n",
    "columns_to_scale = numerical_data\n",
    "dataset[columns_to_scale] = ss.fit_transform(dataset[columns_to_scale])\n",
    "dataset"
   ]
  },
  {
   "cell_type": "markdown",
   "id": "cf6844c3",
   "metadata": {
    "papermill": {
     "duration": 0.022364,
     "end_time": "2023-08-09T03:36:39.679007",
     "exception": false,
     "start_time": "2023-08-09T03:36:39.656643",
     "status": "completed"
    },
    "tags": []
   },
   "source": [
    "### Tentukan variabel X dan Y dari data yang akan ditrain_test_split"
   ]
  },
  {
   "cell_type": "code",
   "execution_count": 32,
   "id": "3094bc30",
   "metadata": {
    "execution": {
     "iopub.execute_input": "2023-08-09T03:36:39.723434Z",
     "iopub.status.busy": "2023-08-09T03:36:39.723097Z",
     "iopub.status.idle": "2023-08-09T03:36:39.729417Z",
     "shell.execute_reply": "2023-08-09T03:36:39.728153Z"
    },
    "papermill": {
     "duration": 0.030668,
     "end_time": "2023-08-09T03:36:39.731420",
     "exception": false,
     "start_time": "2023-08-09T03:36:39.700752",
     "status": "completed"
    },
    "tags": []
   },
   "outputs": [],
   "source": [
    "X_data = dataset.drop('target',axis=1)\n",
    "Y_data = dataset.target"
   ]
  },
  {
   "cell_type": "markdown",
   "id": "54dd539e",
   "metadata": {
    "papermill": {
     "duration": 0.020048,
     "end_time": "2023-08-09T03:36:39.772145",
     "exception": false,
     "start_time": "2023-08-09T03:36:39.752097",
     "status": "completed"
    },
    "tags": []
   },
   "source": [
    "### Train test split untuk memisahkan data menjadi 3 bagian, yaitu train data, validation data, dan testing data"
   ]
  },
  {
   "cell_type": "code",
   "execution_count": 33,
   "id": "43f88eb2",
   "metadata": {
    "execution": {
     "iopub.execute_input": "2023-08-09T03:36:39.814138Z",
     "iopub.status.busy": "2023-08-09T03:36:39.813793Z",
     "iopub.status.idle": "2023-08-09T03:36:39.825602Z",
     "shell.execute_reply": "2023-08-09T03:36:39.824633Z"
    },
    "papermill": {
     "duration": 0.035677,
     "end_time": "2023-08-09T03:36:39.828188",
     "exception": false,
     "start_time": "2023-08-09T03:36:39.792511",
     "status": "completed"
    },
    "tags": []
   },
   "outputs": [],
   "source": [
    "X, X_test, y, y_test = train_test_split(X_data,Y_data,test_size=0.3,random_state=24,stratify=Y_data)\n",
    "X_train, X_valid, y_train, y_valid = train_test_split(X,y,test_size=0.3,random_state=24,stratify=y)"
   ]
  },
  {
   "cell_type": "markdown",
   "id": "c8df71be",
   "metadata": {
    "papermill": {
     "duration": 0.021861,
     "end_time": "2023-08-09T03:36:39.871846",
     "exception": false,
     "start_time": "2023-08-09T03:36:39.849985",
     "status": "completed"
    },
    "tags": []
   },
   "source": [
    "# Machine Learning and Evaluation"
   ]
  },
  {
   "cell_type": "markdown",
   "id": "e880d0e9",
   "metadata": {
    "papermill": {
     "duration": 0.021482,
     "end_time": "2023-08-09T03:36:39.914984",
     "exception": false,
     "start_time": "2023-08-09T03:36:39.893502",
     "status": "completed"
    },
    "tags": []
   },
   "source": [
    "### K-Nearest Neighbors"
   ]
  },
  {
   "cell_type": "code",
   "execution_count": 34,
   "id": "ad84c260",
   "metadata": {
    "execution": {
     "iopub.execute_input": "2023-08-09T03:36:39.959902Z",
     "iopub.status.busy": "2023-08-09T03:36:39.959522Z",
     "iopub.status.idle": "2023-08-09T03:36:40.162731Z",
     "shell.execute_reply": "2023-08-09T03:36:40.161641Z"
    },
    "papermill": {
     "duration": 0.227958,
     "end_time": "2023-08-09T03:36:40.164897",
     "exception": false,
     "start_time": "2023-08-09T03:36:39.936939",
     "status": "completed"
    },
    "tags": []
   },
   "outputs": [
    {
     "name": "stdout",
     "output_type": "stream",
     "text": [
      "1 acc= 0.71875\n",
      "2 acc= 0.671875\n",
      "3 acc= 0.78125\n",
      "4 acc= 0.75\n",
      "5 acc= 0.828125\n",
      "6 acc= 0.84375\n",
      "7 acc= 0.859375\n",
      "8 acc= 0.859375\n",
      "9 acc= 0.84375\n",
      "10 acc= 0.828125\n",
      "11 acc= 0.859375\n"
     ]
    }
   ],
   "source": [
    "from sklearn.neighbors import KNeighborsClassifier\n",
    "for n in range(1,12):\n",
    "    knn = KNeighborsClassifier(n_neighbors=n)\n",
    "    knn.fit(X_train,y_train)\n",
    "    y_prediction = knn.predict(X_valid)\n",
    "    print(n, 'acc=', accuracy_score(y_valid,y_prediction))"
   ]
  },
  {
   "cell_type": "markdown",
   "id": "666812a6",
   "metadata": {
    "papermill": {
     "duration": 0.029717,
     "end_time": "2023-08-09T03:36:40.223878",
     "exception": false,
     "start_time": "2023-08-09T03:36:40.194161",
     "status": "completed"
    },
    "tags": []
   },
   "source": [
    "### Logistic Regression"
   ]
  },
  {
   "cell_type": "code",
   "execution_count": 35,
   "id": "c23c6eda",
   "metadata": {
    "execution": {
     "iopub.execute_input": "2023-08-09T03:36:40.281568Z",
     "iopub.status.busy": "2023-08-09T03:36:40.281235Z",
     "iopub.status.idle": "2023-08-09T03:36:40.302034Z",
     "shell.execute_reply": "2023-08-09T03:36:40.301103Z"
    },
    "papermill": {
     "duration": 0.051106,
     "end_time": "2023-08-09T03:36:40.303897",
     "exception": false,
     "start_time": "2023-08-09T03:36:40.252791",
     "status": "completed"
    },
    "tags": []
   },
   "outputs": [
    {
     "name": "stdout",
     "output_type": "stream",
     "text": [
      "0.84375\n"
     ]
    }
   ],
   "source": [
    "# Train with Logistic Regression\n",
    "from sklearn.linear_model import LogisticRegression\n",
    "\n",
    "lr = LogisticRegression(max_iter=150)\n",
    "lr.fit(X_train, y_train)\n",
    "\n",
    "prediction = lr.predict(X_valid)\n",
    "print(accuracy_score(prediction, y_valid))"
   ]
  },
  {
   "cell_type": "markdown",
   "id": "4b2ef3eb",
   "metadata": {
    "papermill": {
     "duration": 0.021165,
     "end_time": "2023-08-09T03:36:40.346721",
     "exception": false,
     "start_time": "2023-08-09T03:36:40.325556",
     "status": "completed"
    },
    "tags": []
   },
   "source": [
    "### Decision Tree"
   ]
  },
  {
   "cell_type": "code",
   "execution_count": 36,
   "id": "837529b1",
   "metadata": {
    "execution": {
     "iopub.execute_input": "2023-08-09T03:36:40.391120Z",
     "iopub.status.busy": "2023-08-09T03:36:40.390488Z",
     "iopub.status.idle": "2023-08-09T03:36:40.428156Z",
     "shell.execute_reply": "2023-08-09T03:36:40.427129Z"
    },
    "papermill": {
     "duration": 0.06226,
     "end_time": "2023-08-09T03:36:40.430129",
     "exception": false,
     "start_time": "2023-08-09T03:36:40.367869",
     "status": "completed"
    },
    "tags": []
   },
   "outputs": [
    {
     "name": "stdout",
     "output_type": "stream",
     "text": [
      "0.703125\n"
     ]
    }
   ],
   "source": [
    "# Train with Decision Tree\n",
    "from sklearn.tree import DecisionTreeClassifier\n",
    "\n",
    "dt = DecisionTreeClassifier(random_state=24)\n",
    "dt.fit(X_train, y_train)\n",
    "\n",
    "prediction = dt.predict(X_valid)\n",
    "print(accuracy_score(prediction, y_valid))"
   ]
  },
  {
   "cell_type": "code",
   "execution_count": 37,
   "id": "8078007f",
   "metadata": {
    "execution": {
     "iopub.execute_input": "2023-08-09T03:36:40.474922Z",
     "iopub.status.busy": "2023-08-09T03:36:40.474389Z",
     "iopub.status.idle": "2023-08-09T03:36:41.405191Z",
     "shell.execute_reply": "2023-08-09T03:36:41.403950Z"
    },
    "papermill": {
     "duration": 0.95578,
     "end_time": "2023-08-09T03:36:41.407351",
     "exception": false,
     "start_time": "2023-08-09T03:36:40.451571",
     "status": "completed"
    },
    "tags": []
   },
   "outputs": [
    {
     "name": "stdout",
     "output_type": "stream",
     "text": [
      "Depth: 1, Leaf: 10, Acc: 0.703125\n",
      "Depth: 1, Leaf: 15, Acc: 0.703125\n",
      "Depth: 1, Leaf: 20, Acc: 0.703125\n",
      "Depth: 1, Leaf: 25, Acc: 0.703125\n",
      "Depth: 1, Leaf: 30, Acc: 0.703125\n",
      "Depth: 1, Leaf: 35, Acc: 0.703125\n",
      "Depth: 1, Leaf: 40, Acc: 0.703125\n",
      "Depth: 1, Leaf: 45, Acc: 0.703125\n",
      "Depth: 1, Leaf: 50, Acc: 0.703125\n",
      "Depth: 1, Leaf: 55, Acc: 0.703125\n",
      "Depth: 1, Leaf: 60, Acc: 0.703125\n",
      "Depth: 1, Leaf: 65, Acc: 0.703125\n",
      "Depth: 1, Leaf: 70, Acc: 0.703125\n",
      "Depth: 1, Leaf: 75, Acc: 0.703125\n",
      "Depth: 1, Leaf: 80, Acc: 0.703125\n",
      "Depth: 1, Leaf: 85, Acc: 0.703125\n",
      "Depth: 1, Leaf: 90, Acc: 0.703125\n",
      "Depth: 1, Leaf: 95, Acc: 0.703125\n",
      "Depth: 2, Leaf: 10, Acc: 0.71875\n",
      "Depth: 2, Leaf: 15, Acc: 0.71875\n",
      "Depth: 2, Leaf: 20, Acc: 0.71875\n",
      "Depth: 2, Leaf: 25, Acc: 0.71875\n",
      "Depth: 2, Leaf: 30, Acc: 0.71875\n",
      "Depth: 2, Leaf: 35, Acc: 0.71875\n",
      "Depth: 2, Leaf: 40, Acc: 0.71875\n",
      "Depth: 2, Leaf: 45, Acc: 0.71875\n",
      "Depth: 2, Leaf: 50, Acc: 0.71875\n",
      "Depth: 2, Leaf: 55, Acc: 0.71875\n",
      "Depth: 2, Leaf: 60, Acc: 0.71875\n",
      "Depth: 2, Leaf: 65, Acc: 0.71875\n",
      "Depth: 2, Leaf: 70, Acc: 0.71875\n",
      "Depth: 2, Leaf: 75, Acc: 0.71875\n",
      "Depth: 2, Leaf: 80, Acc: 0.71875\n",
      "Depth: 2, Leaf: 85, Acc: 0.71875\n",
      "Depth: 2, Leaf: 90, Acc: 0.71875\n",
      "Depth: 2, Leaf: 95, Acc: 0.71875\n",
      "Depth: 3, Leaf: 10, Acc: 0.75\n",
      "Depth: 3, Leaf: 15, Acc: 0.75\n",
      "Depth: 3, Leaf: 20, Acc: 0.75\n",
      "Depth: 3, Leaf: 25, Acc: 0.75\n",
      "Depth: 3, Leaf: 30, Acc: 0.75\n",
      "Depth: 3, Leaf: 35, Acc: 0.75\n",
      "Depth: 3, Leaf: 40, Acc: 0.75\n",
      "Depth: 3, Leaf: 45, Acc: 0.75\n",
      "Depth: 3, Leaf: 50, Acc: 0.75\n",
      "Depth: 3, Leaf: 55, Acc: 0.75\n",
      "Depth: 3, Leaf: 60, Acc: 0.75\n",
      "Depth: 3, Leaf: 65, Acc: 0.75\n",
      "Depth: 3, Leaf: 70, Acc: 0.75\n",
      "Depth: 3, Leaf: 75, Acc: 0.75\n",
      "Depth: 3, Leaf: 80, Acc: 0.75\n",
      "Depth: 3, Leaf: 85, Acc: 0.75\n",
      "Depth: 3, Leaf: 90, Acc: 0.75\n",
      "Depth: 3, Leaf: 95, Acc: 0.75\n",
      "Depth: 4, Leaf: 10, Acc: 0.734375\n",
      "Depth: 4, Leaf: 15, Acc: 0.734375\n",
      "Depth: 4, Leaf: 20, Acc: 0.734375\n",
      "Depth: 4, Leaf: 25, Acc: 0.734375\n",
      "Depth: 4, Leaf: 30, Acc: 0.734375\n",
      "Depth: 4, Leaf: 35, Acc: 0.734375\n",
      "Depth: 4, Leaf: 40, Acc: 0.734375\n",
      "Depth: 4, Leaf: 45, Acc: 0.734375\n",
      "Depth: 4, Leaf: 50, Acc: 0.734375\n",
      "Depth: 4, Leaf: 55, Acc: 0.734375\n",
      "Depth: 4, Leaf: 60, Acc: 0.734375\n",
      "Depth: 4, Leaf: 65, Acc: 0.734375\n",
      "Depth: 4, Leaf: 70, Acc: 0.734375\n",
      "Depth: 4, Leaf: 75, Acc: 0.734375\n",
      "Depth: 4, Leaf: 80, Acc: 0.734375\n",
      "Depth: 4, Leaf: 85, Acc: 0.734375\n",
      "Depth: 4, Leaf: 90, Acc: 0.734375\n",
      "Depth: 4, Leaf: 95, Acc: 0.734375\n",
      "Depth: 5, Leaf: 10, Acc: 0.734375\n",
      "Depth: 5, Leaf: 15, Acc: 0.703125\n",
      "Depth: 5, Leaf: 20, Acc: 0.703125\n",
      "Depth: 5, Leaf: 25, Acc: 0.703125\n",
      "Depth: 5, Leaf: 30, Acc: 0.703125\n",
      "Depth: 5, Leaf: 35, Acc: 0.703125\n",
      "Depth: 5, Leaf: 40, Acc: 0.703125\n",
      "Depth: 5, Leaf: 45, Acc: 0.703125\n",
      "Depth: 5, Leaf: 50, Acc: 0.703125\n",
      "Depth: 5, Leaf: 55, Acc: 0.703125\n",
      "Depth: 5, Leaf: 60, Acc: 0.703125\n",
      "Depth: 5, Leaf: 65, Acc: 0.703125\n",
      "Depth: 5, Leaf: 70, Acc: 0.703125\n",
      "Depth: 5, Leaf: 75, Acc: 0.703125\n",
      "Depth: 5, Leaf: 80, Acc: 0.703125\n",
      "Depth: 5, Leaf: 85, Acc: 0.703125\n",
      "Depth: 5, Leaf: 90, Acc: 0.703125\n",
      "Depth: 5, Leaf: 95, Acc: 0.703125\n",
      "Depth: 6, Leaf: 10, Acc: 0.734375\n",
      "Depth: 6, Leaf: 15, Acc: 0.734375\n",
      "Depth: 6, Leaf: 20, Acc: 0.734375\n",
      "Depth: 6, Leaf: 25, Acc: 0.734375\n",
      "Depth: 6, Leaf: 30, Acc: 0.734375\n",
      "Depth: 6, Leaf: 35, Acc: 0.734375\n",
      "Depth: 6, Leaf: 40, Acc: 0.734375\n",
      "Depth: 6, Leaf: 45, Acc: 0.734375\n",
      "Depth: 6, Leaf: 50, Acc: 0.734375\n",
      "Depth: 6, Leaf: 55, Acc: 0.734375\n",
      "Depth: 6, Leaf: 60, Acc: 0.734375\n",
      "Depth: 6, Leaf: 65, Acc: 0.734375\n",
      "Depth: 6, Leaf: 70, Acc: 0.734375\n",
      "Depth: 6, Leaf: 75, Acc: 0.734375\n",
      "Depth: 6, Leaf: 80, Acc: 0.734375\n",
      "Depth: 6, Leaf: 85, Acc: 0.734375\n",
      "Depth: 6, Leaf: 90, Acc: 0.734375\n",
      "Depth: 6, Leaf: 95, Acc: 0.734375\n",
      "Depth: 7, Leaf: 10, Acc: 0.734375\n",
      "Depth: 7, Leaf: 15, Acc: 0.75\n",
      "Depth: 7, Leaf: 20, Acc: 0.734375\n",
      "Depth: 7, Leaf: 25, Acc: 0.71875\n",
      "Depth: 7, Leaf: 30, Acc: 0.71875\n",
      "Depth: 7, Leaf: 35, Acc: 0.71875\n",
      "Depth: 7, Leaf: 40, Acc: 0.71875\n",
      "Depth: 7, Leaf: 45, Acc: 0.71875\n",
      "Depth: 7, Leaf: 50, Acc: 0.71875\n",
      "Depth: 7, Leaf: 55, Acc: 0.71875\n",
      "Depth: 7, Leaf: 60, Acc: 0.71875\n",
      "Depth: 7, Leaf: 65, Acc: 0.71875\n",
      "Depth: 7, Leaf: 70, Acc: 0.71875\n",
      "Depth: 7, Leaf: 75, Acc: 0.71875\n",
      "Depth: 7, Leaf: 80, Acc: 0.71875\n",
      "Depth: 7, Leaf: 85, Acc: 0.71875\n",
      "Depth: 7, Leaf: 90, Acc: 0.71875\n",
      "Depth: 7, Leaf: 95, Acc: 0.71875\n",
      "Depth: 8, Leaf: 10, Acc: 0.734375\n",
      "Depth: 8, Leaf: 15, Acc: 0.75\n",
      "Depth: 8, Leaf: 20, Acc: 0.734375\n",
      "Depth: 8, Leaf: 25, Acc: 0.71875\n",
      "Depth: 8, Leaf: 30, Acc: 0.703125\n",
      "Depth: 8, Leaf: 35, Acc: 0.703125\n",
      "Depth: 8, Leaf: 40, Acc: 0.703125\n",
      "Depth: 8, Leaf: 45, Acc: 0.703125\n",
      "Depth: 8, Leaf: 50, Acc: 0.703125\n",
      "Depth: 8, Leaf: 55, Acc: 0.703125\n",
      "Depth: 8, Leaf: 60, Acc: 0.703125\n",
      "Depth: 8, Leaf: 65, Acc: 0.703125\n",
      "Depth: 8, Leaf: 70, Acc: 0.703125\n",
      "Depth: 8, Leaf: 75, Acc: 0.703125\n",
      "Depth: 8, Leaf: 80, Acc: 0.703125\n",
      "Depth: 8, Leaf: 85, Acc: 0.703125\n",
      "Depth: 8, Leaf: 90, Acc: 0.703125\n",
      "Depth: 8, Leaf: 95, Acc: 0.703125\n",
      "Depth: 9, Leaf: 10, Acc: 0.734375\n",
      "Depth: 9, Leaf: 15, Acc: 0.75\n",
      "Depth: 9, Leaf: 20, Acc: 0.734375\n",
      "Depth: 9, Leaf: 25, Acc: 0.71875\n",
      "Depth: 9, Leaf: 30, Acc: 0.703125\n",
      "Depth: 9, Leaf: 35, Acc: 0.703125\n",
      "Depth: 9, Leaf: 40, Acc: 0.703125\n",
      "Depth: 9, Leaf: 45, Acc: 0.703125\n",
      "Depth: 9, Leaf: 50, Acc: 0.703125\n",
      "Depth: 9, Leaf: 55, Acc: 0.703125\n",
      "Depth: 9, Leaf: 60, Acc: 0.703125\n",
      "Depth: 9, Leaf: 65, Acc: 0.703125\n",
      "Depth: 9, Leaf: 70, Acc: 0.703125\n",
      "Depth: 9, Leaf: 75, Acc: 0.703125\n",
      "Depth: 9, Leaf: 80, Acc: 0.703125\n",
      "Depth: 9, Leaf: 85, Acc: 0.703125\n",
      "Depth: 9, Leaf: 90, Acc: 0.703125\n",
      "Depth: 9, Leaf: 95, Acc: 0.703125\n",
      "Depth: 10, Leaf: 10, Acc: 0.734375\n",
      "Depth: 10, Leaf: 15, Acc: 0.75\n",
      "Depth: 10, Leaf: 20, Acc: 0.734375\n",
      "Depth: 10, Leaf: 25, Acc: 0.71875\n",
      "Depth: 10, Leaf: 30, Acc: 0.703125\n",
      "Depth: 10, Leaf: 35, Acc: 0.703125\n",
      "Depth: 10, Leaf: 40, Acc: 0.703125\n",
      "Depth: 10, Leaf: 45, Acc: 0.703125\n",
      "Depth: 10, Leaf: 50, Acc: 0.703125\n",
      "Depth: 10, Leaf: 55, Acc: 0.703125\n",
      "Depth: 10, Leaf: 60, Acc: 0.703125\n",
      "Depth: 10, Leaf: 65, Acc: 0.703125\n",
      "Depth: 10, Leaf: 70, Acc: 0.703125\n",
      "Depth: 10, Leaf: 75, Acc: 0.703125\n",
      "Depth: 10, Leaf: 80, Acc: 0.703125\n",
      "Depth: 10, Leaf: 85, Acc: 0.703125\n",
      "Depth: 10, Leaf: 90, Acc: 0.703125\n",
      "Depth: 10, Leaf: 95, Acc: 0.703125\n",
      "Depth: 11, Leaf: 10, Acc: 0.734375\n",
      "Depth: 11, Leaf: 15, Acc: 0.75\n",
      "Depth: 11, Leaf: 20, Acc: 0.734375\n",
      "Depth: 11, Leaf: 25, Acc: 0.71875\n",
      "Depth: 11, Leaf: 30, Acc: 0.703125\n",
      "Depth: 11, Leaf: 35, Acc: 0.703125\n",
      "Depth: 11, Leaf: 40, Acc: 0.703125\n",
      "Depth: 11, Leaf: 45, Acc: 0.703125\n",
      "Depth: 11, Leaf: 50, Acc: 0.703125\n",
      "Depth: 11, Leaf: 55, Acc: 0.703125\n",
      "Depth: 11, Leaf: 60, Acc: 0.703125\n",
      "Depth: 11, Leaf: 65, Acc: 0.703125\n",
      "Depth: 11, Leaf: 70, Acc: 0.703125\n",
      "Depth: 11, Leaf: 75, Acc: 0.703125\n",
      "Depth: 11, Leaf: 80, Acc: 0.703125\n",
      "Depth: 11, Leaf: 85, Acc: 0.703125\n",
      "Depth: 11, Leaf: 90, Acc: 0.703125\n",
      "Depth: 11, Leaf: 95, Acc: 0.703125\n",
      "Depth: 12, Leaf: 10, Acc: 0.734375\n",
      "Depth: 12, Leaf: 15, Acc: 0.75\n",
      "Depth: 12, Leaf: 20, Acc: 0.734375\n",
      "Depth: 12, Leaf: 25, Acc: 0.71875\n",
      "Depth: 12, Leaf: 30, Acc: 0.703125\n",
      "Depth: 12, Leaf: 35, Acc: 0.703125\n",
      "Depth: 12, Leaf: 40, Acc: 0.703125\n",
      "Depth: 12, Leaf: 45, Acc: 0.703125\n",
      "Depth: 12, Leaf: 50, Acc: 0.703125\n",
      "Depth: 12, Leaf: 55, Acc: 0.703125\n",
      "Depth: 12, Leaf: 60, Acc: 0.703125\n",
      "Depth: 12, Leaf: 65, Acc: 0.703125\n",
      "Depth: 12, Leaf: 70, Acc: 0.703125\n",
      "Depth: 12, Leaf: 75, Acc: 0.703125\n",
      "Depth: 12, Leaf: 80, Acc: 0.703125\n",
      "Depth: 12, Leaf: 85, Acc: 0.703125\n",
      "Depth: 12, Leaf: 90, Acc: 0.703125\n",
      "Depth: 12, Leaf: 95, Acc: 0.703125\n",
      "Depth: 13, Leaf: 10, Acc: 0.734375\n",
      "Depth: 13, Leaf: 15, Acc: 0.75\n",
      "Depth: 13, Leaf: 20, Acc: 0.734375\n",
      "Depth: 13, Leaf: 25, Acc: 0.71875\n",
      "Depth: 13, Leaf: 30, Acc: 0.703125\n",
      "Depth: 13, Leaf: 35, Acc: 0.703125\n",
      "Depth: 13, Leaf: 40, Acc: 0.703125\n",
      "Depth: 13, Leaf: 45, Acc: 0.703125\n",
      "Depth: 13, Leaf: 50, Acc: 0.703125\n",
      "Depth: 13, Leaf: 55, Acc: 0.703125\n",
      "Depth: 13, Leaf: 60, Acc: 0.703125\n",
      "Depth: 13, Leaf: 65, Acc: 0.703125\n",
      "Depth: 13, Leaf: 70, Acc: 0.703125\n",
      "Depth: 13, Leaf: 75, Acc: 0.703125\n",
      "Depth: 13, Leaf: 80, Acc: 0.703125\n",
      "Depth: 13, Leaf: 85, Acc: 0.703125\n",
      "Depth: 13, Leaf: 90, Acc: 0.703125\n",
      "Depth: 13, Leaf: 95, Acc: 0.703125\n",
      "Depth: 14, Leaf: 10, Acc: 0.734375\n",
      "Depth: 14, Leaf: 15, Acc: 0.75\n",
      "Depth: 14, Leaf: 20, Acc: 0.734375\n",
      "Depth: 14, Leaf: 25, Acc: 0.71875\n",
      "Depth: 14, Leaf: 30, Acc: 0.703125\n",
      "Depth: 14, Leaf: 35, Acc: 0.703125\n",
      "Depth: 14, Leaf: 40, Acc: 0.703125\n",
      "Depth: 14, Leaf: 45, Acc: 0.703125\n",
      "Depth: 14, Leaf: 50, Acc: 0.703125\n",
      "Depth: 14, Leaf: 55, Acc: 0.703125\n",
      "Depth: 14, Leaf: 60, Acc: 0.703125\n",
      "Depth: 14, Leaf: 65, Acc: 0.703125\n",
      "Depth: 14, Leaf: 70, Acc: 0.703125\n",
      "Depth: 14, Leaf: 75, Acc: 0.703125\n",
      "Depth: 14, Leaf: 80, Acc: 0.703125\n",
      "Depth: 14, Leaf: 85, Acc: 0.703125\n",
      "Depth: 14, Leaf: 90, Acc: 0.703125\n",
      "Depth: 14, Leaf: 95, Acc: 0.703125\n"
     ]
    }
   ],
   "source": [
    "# Hyperparameter with Decision Tree\n",
    "max_depth = range(1, 15)\n",
    "max_leaf_nodes = range(10, 100, 5)\n",
    "for depth in max_depth:\n",
    "    for leaf in max_leaf_nodes:\n",
    "        dt = DecisionTreeClassifier(max_depth=depth, max_leaf_nodes=leaf, random_state=24)\n",
    "        dt.fit(X_train, y_train)\n",
    "\n",
    "        prediction = dt.predict(X_valid)\n",
    "        print(\"Depth: {}, Leaf: {}, Acc: {}\".format(depth, leaf, accuracy_score(prediction, y_valid)))"
   ]
  },
  {
   "cell_type": "markdown",
   "id": "d336b434",
   "metadata": {
    "papermill": {
     "duration": 0.021837,
     "end_time": "2023-08-09T03:36:41.451864",
     "exception": false,
     "start_time": "2023-08-09T03:36:41.430027",
     "status": "completed"
    },
    "tags": []
   },
   "source": [
    "Akurasi tertinggi ada pada Depth:14, Leaf:15, Acc:0.75"
   ]
  },
  {
   "cell_type": "code",
   "execution_count": 38,
   "id": "8bfce688",
   "metadata": {
    "execution": {
     "iopub.execute_input": "2023-08-09T03:36:41.499561Z",
     "iopub.status.busy": "2023-08-09T03:36:41.499187Z",
     "iopub.status.idle": "2023-08-09T03:36:41.512146Z",
     "shell.execute_reply": "2023-08-09T03:36:41.510560Z"
    },
    "papermill": {
     "duration": 0.039105,
     "end_time": "2023-08-09T03:36:41.514548",
     "exception": false,
     "start_time": "2023-08-09T03:36:41.475443",
     "status": "completed"
    },
    "tags": []
   },
   "outputs": [
    {
     "data": {
      "text/plain": [
       "0.7472527472527473"
      ]
     },
     "execution_count": 38,
     "metadata": {},
     "output_type": "execute_result"
    }
   ],
   "source": [
    "dt = DecisionTreeClassifier(max_depth=14, max_leaf_nodes=80, random_state=24)\n",
    "dt.fit(X_train, y_train)\n",
    "prediction = dt.predict(X_test)\n",
    "accuracy_score(prediction, y_test)"
   ]
  },
  {
   "cell_type": "markdown",
   "id": "32d1cc83",
   "metadata": {
    "papermill": {
     "duration": 0.021595,
     "end_time": "2023-08-09T03:36:41.558203",
     "exception": false,
     "start_time": "2023-08-09T03:36:41.536608",
     "status": "completed"
    },
    "tags": []
   },
   "source": [
    "### Naive Bayes"
   ]
  },
  {
   "cell_type": "code",
   "execution_count": 39,
   "id": "28e2afc8",
   "metadata": {
    "execution": {
     "iopub.execute_input": "2023-08-09T03:36:41.603619Z",
     "iopub.status.busy": "2023-08-09T03:36:41.603264Z",
     "iopub.status.idle": "2023-08-09T03:36:41.615456Z",
     "shell.execute_reply": "2023-08-09T03:36:41.613879Z"
    },
    "papermill": {
     "duration": 0.03767,
     "end_time": "2023-08-09T03:36:41.617938",
     "exception": false,
     "start_time": "2023-08-09T03:36:41.580268",
     "status": "completed"
    },
    "tags": []
   },
   "outputs": [
    {
     "name": "stdout",
     "output_type": "stream",
     "text": [
      "0.671875\n"
     ]
    }
   ],
   "source": [
    "from sklearn.naive_bayes import GaussianNB\n",
    "gnb = GaussianNB()\n",
    "gnb.fit(X_train,y_train)\n",
    "prediction = gnb.predict(X_valid)\n",
    "print(accuracy_score(y_valid,prediction))"
   ]
  },
  {
   "cell_type": "markdown",
   "id": "a77853db",
   "metadata": {
    "papermill": {
     "duration": 0.022359,
     "end_time": "2023-08-09T03:36:41.663784",
     "exception": false,
     "start_time": "2023-08-09T03:36:41.641425",
     "status": "completed"
    },
    "tags": []
   },
   "source": [
    "### Support Vector Machine"
   ]
  },
  {
   "cell_type": "code",
   "execution_count": 40,
   "id": "3428dc49",
   "metadata": {
    "execution": {
     "iopub.execute_input": "2023-08-09T03:36:41.710425Z",
     "iopub.status.busy": "2023-08-09T03:36:41.709152Z",
     "iopub.status.idle": "2023-08-09T03:36:41.722152Z",
     "shell.execute_reply": "2023-08-09T03:36:41.721127Z"
    },
    "papermill": {
     "duration": 0.038035,
     "end_time": "2023-08-09T03:36:41.724200",
     "exception": false,
     "start_time": "2023-08-09T03:36:41.686165",
     "status": "completed"
    },
    "tags": []
   },
   "outputs": [
    {
     "name": "stdout",
     "output_type": "stream",
     "text": [
      "0.828125\n"
     ]
    }
   ],
   "source": [
    "from sklearn.svm import SVC\n",
    "svc = SVC()\n",
    "svc.fit(X_train,y_train)\n",
    "prediction = svc.predict(X_valid)\n",
    "print(accuracy_score(y_valid,prediction))"
   ]
  },
  {
   "cell_type": "markdown",
   "id": "ee84f49f",
   "metadata": {
    "papermill": {
     "duration": 0.02207,
     "end_time": "2023-08-09T03:36:41.768590",
     "exception": false,
     "start_time": "2023-08-09T03:36:41.746520",
     "status": "completed"
    },
    "tags": []
   },
   "source": [
    "Hasil ML terbaik pakai K-Nearest Neighbors dengan n=11, yaitu 0.859"
   ]
  },
  {
   "cell_type": "code",
   "execution_count": null,
   "id": "1ebae524",
   "metadata": {
    "papermill": {
     "duration": 0.02178,
     "end_time": "2023-08-09T03:36:41.812944",
     "exception": false,
     "start_time": "2023-08-09T03:36:41.791164",
     "status": "completed"
    },
    "tags": []
   },
   "outputs": [],
   "source": []
  }
 ],
 "metadata": {
  "kernelspec": {
   "display_name": "Python 3",
   "language": "python",
   "name": "python3"
  },
  "language_info": {
   "codemirror_mode": {
    "name": "ipython",
    "version": 3
   },
   "file_extension": ".py",
   "mimetype": "text/x-python",
   "name": "python",
   "nbconvert_exporter": "python",
   "pygments_lexer": "ipython3",
   "version": "3.7.12"
  },
  "papermill": {
   "default_parameters": {},
   "duration": 18.965011,
   "end_time": "2023-08-09T03:36:42.556183",
   "environment_variables": {},
   "exception": null,
   "input_path": "__notebook__.ipynb",
   "output_path": "__notebook__.ipynb",
   "parameters": {},
   "start_time": "2023-08-09T03:36:23.591172",
   "version": "2.3.4"
  }
 },
 "nbformat": 4,
 "nbformat_minor": 5
}
